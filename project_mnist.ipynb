{
 "cells": [
  {
   "cell_type": "code",
   "execution_count": null,
   "metadata": {},
   "outputs": [],
   "source": [
    "import numpy as np\n",
    "import pandas as pd\n",
    "import matplotlib.pyplot as plt\n",
    "import seaborn as sns\n",
    "\n",
    "from scipy.io.arff import loadarff \n",
    "\n",
    "#Funções de avaliação dos modelos\n",
    "from sklearn.metrics import (\n",
    "    accuracy_score,\n",
    "    confusion_matrix,\n",
    "    f1_score,\n",
    "    roc_curve,\n",
    "    auc,\n",
    "    roc_auc_score,\n",
    ")\n",
    "from sklearn.model_selection import(\n",
    "    train_test_split, \n",
    "    cross_val_predict,\n",
    "    KFold,\n",
    "    GridSearchCV,\n",
    ")\n",
    "\n",
    "from sklearn.preprocessing import label_binarize\n",
    "\n",
    "#utils\n",
    "from utils.num import Num\n",
    "\n",
    "import warnings\n",
    "warnings.filterwarnings('ignore')"
   ]
  },
  {
   "cell_type": "code",
   "execution_count": null,
   "metadata": {},
   "outputs": [],
   "source": [
    "#Classes do modelo de aprendizado\n",
    "from sklearn.neighbors import KNeighborsClassifier\n",
    "from sklearn.tree import DecisionTreeClassifier\n",
    "from sklearn.naive_bayes import GaussianNB, MultinomialNB\n",
    "from sklearn.linear_model import Perceptron, LogisticRegression\n",
    "from sklearn.svm import SVC"
   ]
  },
  {
   "cell_type": "markdown",
   "metadata": {},
   "source": [
    "## Definição de funções auxiliares"
   ]
  },
  {
   "cell_type": "markdown",
   "metadata": {},
   "source": [
    "### Métricas"
   ]
  },
  {
   "cell_type": "code",
   "execution_count": null,
   "metadata": {},
   "outputs": [],
   "source": [
    "def compute_metrics(y_true, y_pred, y_score=None):\n",
    "    accuracy = accuracy_score(y_true, y_pred)\n",
    "    f1 = f1_score(y_true, y_pred, average='macro')\n",
    "    conf_matrix = confusion_matrix(y_true, y_pred)\n",
    "\n",
    "    if y_score is not None:\n",
    "        # Compute ROC curve and ROC area for each class\n",
    "        classes = [i for i in range(10)]\n",
    "        n_classes = len(classes)\n",
    "        y_bin = label_binarize(y_true, classes=classes)\n",
    "\n",
    "        fpr = dict()\n",
    "        tpr = dict()\n",
    "        roc_auc = dict()\n",
    "        for i in range(n_classes):\n",
    "            fpr[i], tpr[i], _ = roc_curve(y_bin[:, i], y_score[:, i])\n",
    "            roc_auc[i] = auc(fpr[i], tpr[i])\n",
    "\n",
    "        # Compute micro-average ROC curve and ROC area\n",
    "        fpr[\"micro\"], tpr[\"micro\"], _ = roc_curve(y_bin.ravel(), y_score.ravel())\n",
    "        roc_auc[\"micro\"] = auc(fpr[\"micro\"], tpr[\"micro\"])\n",
    "\n",
    "        return accuracy, f1, conf_matrix, (fpr, tpr, roc_auc)\n",
    "    \n",
    "    return accuracy, f1, conf_matrix\n",
    "\n",
    "def plot_metrics(model_name:str, acc:list,\n",
    "                 f1:list, cm:list, roc:list) -> None:\n",
    "    print(f\"Resumo das métricas do modelo {model_name}\\n\")\n",
    "    print(f\"Accurácia média (desvio): {np.mean(acc):.3f} ({np.std(acc):.3f})\")\n",
    "    print(f\"F1-Score média (desvio): {np.mean(f1):.3f} ({np.std(f1):.3f})\")\n",
    "\n",
    "    # Confusion Matrix\n",
    "    cm_mean = np.mean(cm, axis=0)\n",
    "    ax = sns.heatmap(cm_mean, linewidths=0.5, annot=True, fmt='g')\n",
    "    ax.set_yticklabels(ax.get_yticklabels(), rotation=0)\n",
    "    ax.set_title('Matriz de Confusão Média')\n",
    "    ax.set_xlabel('Classes preditas')\n",
    "    ax.set_ylabel('Classes verdadeiras')\n",
    "    plt.show()\n",
    "    "
   ]
  },
  {
   "cell_type": "markdown",
   "metadata": {},
   "source": [
    "### Para K-Fold CV e GridSearch"
   ]
  },
  {
   "cell_type": "code",
   "execution_count": null,
   "metadata": {},
   "outputs": [],
   "source": [
    "def kfold_run(kf, model, X, y):\n",
    "      accuracies_list = list()\n",
    "      f1_list = list()\n",
    "      conf_matrix_list = list()\n",
    "      roc_list = list()\n",
    "\n",
    "      for fold, (train, test) in enumerate(kf.split(X, y)):\n",
    "            X_train, X_test = X.iloc[train], X.iloc[test]\n",
    "            y_train, y_test = y.iloc[train], y.iloc[test]\n",
    "\n",
    "            model.fit(X_train, y_train.values.ravel())\n",
    "            y_pred = model.predict(X_test)\n",
    "            y_score = model.predict_proba(X_test)\n",
    "\n",
    "            acc, f1, conf_matrix, roc = compute_metrics(y_test, y_pred, y_score)\n",
    "\n",
    "            print(f\"Fold {fold}\\t Accuracy: {acc:.3f}\")\n",
    "\n",
    "            if hasattr(model, 'best_params_'):\n",
    "                  print(F\"Model best params: {model.best_params_}\")\n",
    "\n",
    "            accuracies_list.append(acc)\n",
    "            f1_list.append(f1)\n",
    "            conf_matrix_list.append(conf_matrix)\n",
    "            roc_list.append(roc)\n",
    "\n",
    "      return accuracies_list, f1_list, conf_matrix_list, roc_list\n",
    "\n",
    "\n",
    "def grid_Search(kf, model, params, X, y):\n",
    "      grid = GridSearchCV(estimator=model, param_grid=params,\n",
    "                          scoring='accuracy', n_jobs=-1, \n",
    "                          cv=5, refit=True)\n",
    "\n",
    "      return kfold_run(kf, grid, X, y)"
   ]
  },
  {
   "cell_type": "markdown",
   "metadata": {},
   "source": [
    "### Visualização de instâncias do DS"
   ]
  },
  {
   "cell_type": "code",
   "execution_count": null,
   "metadata": {},
   "outputs": [],
   "source": [
    "# plot multiple numbers\n",
    "\n",
    "def plot_images(images):\n",
    "    n_images = len(images)\n",
    "\n",
    "    rows = int(np.sqrt(n_images))\n",
    "    cols = int(np.sqrt(n_images))\n",
    "\n",
    "    fig = plt.figure()\n",
    "    for i in range(rows*cols):\n",
    "        ax = fig.add_subplot(rows, cols, i+1)\n",
    "        ax.imshow(images[i], cmap='gray_r')\n",
    "        ax.axis('off')\n",
    "    \n",
    "    fig.suptitle('Representação de números aleatórios do dataset')"
   ]
  },
  {
   "cell_type": "markdown",
   "metadata": {},
   "source": [
    "### Carregando o DataSet"
   ]
  },
  {
   "cell_type": "code",
   "execution_count": null,
   "metadata": {},
   "outputs": [],
   "source": [
    "# loading data\n",
    "raw_data = loadarff('mnist_784.arff')\n",
    "df = pd.DataFrame(raw_data[0])"
   ]
  },
  {
   "cell_type": "code",
   "execution_count": null,
   "metadata": {},
   "outputs": [],
   "source": [
    "# Visualizando algumas instância do dataset\n",
    "nums = df['class'].unique()\n",
    "\n",
    "imgs = list()\n",
    "for i in np.random.randint(1000, size=36):\n",
    "    rnd_choice = np.random.choice(nums)\n",
    "    img = pd.array(df[df['class'] == rnd_choice].iloc[i][:-1],\n",
    "                 dtype=int).reshape((28,28))\n",
    "    imgs.append(img)\n",
    "\n",
    "plot_images(imgs)\n"
   ]
  },
  {
   "cell_type": "code",
   "execution_count": null,
   "metadata": {},
   "outputs": [],
   "source": [
    "# numbers distribution\n",
    "n_dist = df['class'].value_counts().sort_index()\n",
    "n_dist.index = n_dist.index.astype('int')\n",
    "\n",
    "fig = n_dist.plot.bar()\n",
    "fig.set_xticklabels(fig.get_xticklabels(), rotation=0)\n",
    "fig.set_xlabel('Classe')\n",
    "fig.set_ylabel('Frequência')\n",
    "\n",
    "fig.set_title('Frequência de cada número (classe)')"
   ]
  },
  {
   "cell_type": "markdown",
   "metadata": {},
   "source": [
    "#### Separando os dados de treino e teste"
   ]
  },
  {
   "cell_type": "code",
   "execution_count": null,
   "metadata": {},
   "outputs": [],
   "source": [
    "# treino e teste\n",
    "X = df.iloc[:, 0:-1]\n",
    "y = df.iloc[:, [-1]].astype('int') # target\n",
    "\n",
    "X_train, X_val, y_train, y_val = train_test_split(X, y, test_size=0.1, shuffle=True)\n",
    "\n",
    "kf = KFold(n_splits=5, shuffle=True)"
   ]
  },
  {
   "cell_type": "markdown",
   "metadata": {},
   "source": [
    "# Experimentos"
   ]
  },
  {
   "cell_type": "markdown",
   "metadata": {},
   "source": [
    "### KNN"
   ]
  },
  {
   "cell_type": "code",
   "execution_count": null,
   "metadata": {},
   "outputs": [],
   "source": [
    "knn = KNeighborsClassifier()\n",
    "knn_params = {'n_neighbors': [3, 5, 7],\n",
    "             'metric': ['euclidean', 'manhattan']}\n",
    "\n",
    "knn_acc, knn_f1, knn_cm, knn_roc = grid_Search(kf, knn, knn_params, X_train, y_train)\n",
    "\n",
    "print(\"\\n-----------------------------------------------------\\n\")\n",
    "plot_metrics(type(knn).__name__, knn_acc, knn_f1, knn_cm, knn_roc)"
   ]
  },
  {
   "cell_type": "markdown",
   "metadata": {},
   "source": [
    "### Decision Tree"
   ]
  },
  {
   "cell_type": "code",
   "execution_count": null,
   "metadata": {},
   "outputs": [],
   "source": [
    "DT = DecisionTreeClassifier()\n",
    "dt_params = {\n",
    "    'criterion': ['gini', 'entropy'],\n",
    "    'max_depth':[5, 50, 100],\n",
    "    'min_samples_split': [5, 10, 30],\n",
    "    'max_features':[10, 30, 100, 'sqrt'],\n",
    "}\n",
    "dt_acc, dt_f1, dt_cm, dt_roc = grid_Search(kf, DT, dt_params, X_train, y_train)\n",
    "\n",
    "print(\"\\n-----------------------------------------------------\\n\")\n",
    "plot_metrics(type(DT).__name__, dt_acc, dt_f1, dt_cm, dt_roc)\n"
   ]
  },
  {
   "cell_type": "markdown",
   "metadata": {},
   "source": [
    "### Naive Bayes"
   ]
  },
  {
   "cell_type": "markdown",
   "metadata": {},
   "source": [
    "#### Gaussian NB"
   ]
  },
  {
   "cell_type": "code",
   "execution_count": null,
   "metadata": {},
   "outputs": [],
   "source": [
    "GNB = GaussianNB()\n",
    "gnb_params = {\n",
    "    \n",
    "}\n",
    "\n",
    "grid_Search(kf, GNB, gnb_params, X_train, y_train)"
   ]
  },
  {
   "cell_type": "markdown",
   "metadata": {},
   "source": [
    "#### Multinomial NB"
   ]
  },
  {
   "cell_type": "code",
   "execution_count": null,
   "metadata": {},
   "outputs": [],
   "source": [
    "MNNB = MultinomialNB()\n",
    "mnnb_params = {\n",
    "    \n",
    "}\n",
    "\n",
    "grid_Search(kf, MNNB, mnnb_params, X_train, y_train)"
   ]
  },
  {
   "cell_type": "markdown",
   "metadata": {},
   "source": [
    "### SVC"
   ]
  },
  {
   "cell_type": "code",
   "execution_count": null,
   "metadata": {},
   "outputs": [],
   "source": [
    "svc = SVC()\n",
    "svc_params = [\n",
    "    {'C': [0.1, 10, 100],\n",
    "     'kernel':['linear', 'rbf', 'sigmoid']},\n",
    "    \n",
    "    {'C': [0.1, 10, 100],\n",
    "     'Kernel': ['poly'],\n",
    "     'degree': [2, 3, 5]},\n",
    "]\n",
    "\n",
    "grid_Search(kf, svc, svc_params, X_train, y_train)\n"
   ]
  }
 ],
 "metadata": {
  "kernelspec": {
   "display_name": "Python 3.10.4 64-bit",
   "language": "python",
   "name": "python3"
  },
  "language_info": {
   "codemirror_mode": {
    "name": "ipython",
    "version": 3
   },
   "file_extension": ".py",
   "mimetype": "text/x-python",
   "name": "python",
   "nbconvert_exporter": "python",
   "pygments_lexer": "ipython3",
   "version": "3.10.4"
  },
  "orig_nbformat": 4,
  "vscode": {
   "interpreter": {
    "hash": "31f2aee4e71d21fbe5cf8b01ff0e069b9275f58929596ceb00d14d90e3e16cd6"
   }
  }
 },
 "nbformat": 4,
 "nbformat_minor": 2
}
