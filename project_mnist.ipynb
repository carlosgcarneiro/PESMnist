{
 "cells": [
  {
   "cell_type": "code",
   "execution_count": null,
   "metadata": {},
   "outputs": [],
   "source": [
    "import numpy as np\n",
    "import pandas as pd\n",
    "import matplotlib.pyplot as plt\n",
    "\n",
    "from scipy.io.arff import loadarff \n",
    "\n",
    "#Funções de avaliação dos modelos\n",
    "from sklearn.metrics import (\n",
    "    accuracy_score,\n",
    "    confusion_matrix,\n",
    "    f1_score,\n",
    "    roc_curve,\n",
    "    auc,\n",
    "    roc_auc_score,\n",
    ")\n",
    "from sklearn.model_selection import(\n",
    "    train_test_split, \n",
    "    cross_val_predict,\n",
    "    KFold,\n",
    "    GridSearchCV,\n",
    ")\n",
    "\n",
    "#utils\n",
    "from utils.num import Num\n",
    "\n",
    "import warnings\n",
    "warnings.filterwarnings('ignore')"
   ]
  },
  {
   "cell_type": "code",
   "execution_count": null,
   "metadata": {},
   "outputs": [],
   "source": [
    "#Classes do modelo de aprendizado\n",
    "from sklearn.neighbors import KNeighborsClassifier\n",
    "from sklearn.tree import DecisionTreeClassifier\n",
    "from sklearn.naive_bayes import GaussianNB, MultinomialNB\n",
    "from sklearn.linear_model import Perceptron, LogisticRegression\n",
    "from sklearn.svm import SVC"
   ]
  },
  {
   "cell_type": "code",
   "execution_count": null,
   "metadata": {},
   "outputs": [],
   "source": [
    "# plot multiple numbers\n",
    "\n",
    "def plot_images(images):\n",
    "    n_images = len(images)\n",
    "\n",
    "    rows = int(np.sqrt(n_images))\n",
    "    cols = int(np.sqrt(n_images))\n",
    "\n",
    "    fig = plt.figure()\n",
    "    for i in range(rows*cols):\n",
    "        ax = fig.add_subplot(rows, cols, i+1)\n",
    "        ax.imshow(images[i], cmap='gray_r')\n",
    "        ax.axis('off')\n",
    "    \n",
    "    fig.suptitle('Representação de números aleatórios do dataset')"
   ]
  },
  {
   "cell_type": "code",
   "execution_count": 37,
   "metadata": {},
   "outputs": [],
   "source": [
    "def kfold_run(kf, model, X, y):\n",
    "      accuracies_list = list()\n",
    "      f1_list = list()\n",
    "      conf_matrix_list = list()\n",
    "      for fold, (train, test) in enumerate(kf.split(X, y)):\n",
    "            X_train, X_test = X.iloc[train], X.iloc[test]\n",
    "            y_train, y_test = y.iloc[train], y.iloc[test]\n",
    "\n",
    "            model.fit(X_train, y_train)\n",
    "            y_pred = model.predict(X_test)\n",
    "            y_score = model.predict_proba(X_test)\n",
    "\n",
    "            acc = accuracy_score(y_test, y_pred)\n",
    "            f1 = f1_score(y_test, y_pred, average=None)\n",
    "            conf_matrix = confusion_matrix(y_test, y_pred)\n",
    "\n",
    "            print(f\"Fold {fold}\\t Accuracy: {acc:.3f}\")\n",
    "\n",
    "            if hasattr(model, 'best_params_'):\n",
    "                  print(F\"Model best params: {model.best_params_}\")\n",
    "\n",
    "            accuracies_list.append(acc)\n",
    "            f1_list.append(f1)\n",
    "            conf_matrix_list.append(conf_matrix)\n",
    "\n",
    "      return accuracies_list, f1_list, conf_matrix_list\n",
    "\n",
    "\n",
    "def grid_Search(kf, model, params, X, y):\n",
    "      grid = GridSearchCV(estimator=model, param_grid=params,\n",
    "                          scoring='accuracy', n_jobs=-1, \n",
    "                          cv=5, refit=True)\n",
    "\n",
    "      return kfold_run(kf, grid, X, y)"
   ]
  },
  {
   "cell_type": "code",
   "execution_count": null,
   "metadata": {},
   "outputs": [],
   "source": [
    "# loading data\n",
    "raw_data = loadarff('mnist_784.arff')\n",
    "df = pd.DataFrame(raw_data[0])"
   ]
  },
  {
   "cell_type": "code",
   "execution_count": null,
   "metadata": {},
   "outputs": [],
   "source": [
    "df.head()"
   ]
  },
  {
   "cell_type": "code",
   "execution_count": null,
   "metadata": {},
   "outputs": [],
   "source": [
    "# Visualizando algumas instância do dataset\n",
    "nums = df['class'].unique()\n",
    "\n",
    "imgs = list()\n",
    "for i in np.random.randint(1000, size=36):\n",
    "    rnd_choice = np.random.choice(nums)\n",
    "    img = pd.array(df[df['class'] == rnd_choice].iloc[i][:-1],\n",
    "                 dtype=int).reshape((28,28))\n",
    "    imgs.append(img)\n",
    "\n",
    "plot_images(imgs)\n"
   ]
  },
  {
   "cell_type": "code",
   "execution_count": null,
   "metadata": {},
   "outputs": [],
   "source": [
    "# numbers distribution\n",
    "n_dist = df['class'].value_counts().sort_index()\n",
    "n_dist.index = n_dist.index.astype('int')\n",
    "\n",
    "fig = n_dist.plot.bar()\n",
    "fig.set_xticklabels(fig.get_xticklabels(), rotation=0)\n",
    "fig.set_xlabel('Classe')\n",
    "fig.set_ylabel('Frequência')\n",
    "\n",
    "fig.set_title('Frequência de cada número (classe)')"
   ]
  },
  {
   "cell_type": "code",
   "execution_count": null,
   "metadata": {},
   "outputs": [],
   "source": [
    "# treino e teste\n",
    "X = df.iloc[:, 0:-1]\n",
    "y = df.iloc[:, [-1]].astype('int') # target\n",
    "\n",
    "X_train, X_val, y_train, y_val = train_test_split(X, y, test_size=0.1, shuffle=True)\n",
    "\n",
    "kf = KFold(n_splits=5, shuffle=True)"
   ]
  },
  {
   "cell_type": "markdown",
   "metadata": {},
   "source": [
    "# Experiments with the Models"
   ]
  },
  {
   "cell_type": "markdown",
   "metadata": {},
   "source": [
    "### KNN"
   ]
  },
  {
   "cell_type": "code",
   "execution_count": null,
   "metadata": {},
   "outputs": [],
   "source": [
    "model = KNeighborsClassifier()\n",
    "parameters = {'n_neighbors': [3, 5, 7],\n",
    "             'metric': ['euclidean', 'manhattan']}\n",
    "\n",
    "grid_Search(kf, model, parameters, X_train, y_train)"
   ]
  },
  {
   "cell_type": "markdown",
   "metadata": {},
   "source": [
    "### Decision Tree"
   ]
  },
  {
   "cell_type": "code",
   "execution_count": 40,
   "metadata": {},
   "outputs": [
    {
     "name": "stdout",
     "output_type": "stream",
     "text": [
      "Fold 0\t Accuracy: 0.860\n",
      "Model best params: {'criterion': 'entropy', 'max_depth': 100, 'max_features': 100, 'min_samples_split': 10}\n",
      "Fold 1\t Accuracy: 0.856\n",
      "Model best params: {'criterion': 'entropy', 'max_depth': 100, 'max_features': 100, 'min_samples_split': 5}\n",
      "Fold 2\t Accuracy: 0.859\n",
      "Model best params: {'criterion': 'entropy', 'max_depth': 100, 'max_features': 100, 'min_samples_split': 10}\n",
      "Fold 3\t Accuracy: 0.861\n",
      "Model best params: {'criterion': 'entropy', 'max_depth': 50, 'max_features': 100, 'min_samples_split': 10}\n",
      "Fold 4\t Accuracy: 0.861\n",
      "Model best params: {'criterion': 'entropy', 'max_depth': 50, 'max_features': 100, 'min_samples_split': 5}\n",
      "Accuracy mean (std): 0.8594126984126984 (0.0017515065681439968)\n",
      "f1-scores mean (std): [0.91749073 0.94976625 0.83605597 0.81934019 0.85406586 0.79696759\n",
      " 0.89212593 0.88513165 0.798792   0.82305385] ([0.00596544 0.00385507 0.00273592 0.00960325 0.00681043 0.00368597\n",
      " 0.00678707 0.00510509 0.00807065 0.00665181])\n",
      "Confusion Matrix mean (std): [[1.1520e+03 1.0000e+00 1.6000e+01 8.6000e+00 9.0000e+00 1.8200e+01\n",
      "  1.6200e+01 6.2000e+00 1.3800e+01 7.8000e+00]\n",
      " [1.8000e+00 1.3596e+03 1.1000e+01 9.4000e+00 3.6000e+00 3.8000e+00\n",
      "  6.2000e+00 7.8000e+00 9.6000e+00 2.6000e+00]\n",
      " [1.8400e+01 1.4400e+01 1.0548e+03 3.8000e+01 2.1000e+01 1.3000e+01\n",
      "  2.0800e+01 2.9400e+01 3.2200e+01 1.3800e+01]\n",
      " [1.2000e+01 1.1400e+01 4.0200e+01 1.0558e+03 9.4000e+00 6.7400e+01\n",
      "  7.2000e+00 2.3400e+01 3.8000e+01 2.0400e+01]\n",
      " [7.4000e+00 4.8000e+00 1.7400e+01 8.0000e+00 1.0486e+03 1.2400e+01\n",
      "  2.1200e+01 1.9200e+01 1.8400e+01 6.8200e+01]\n",
      " [2.2200e+01 1.0200e+01 1.4200e+01 6.9400e+01 1.6600e+01 8.9960e+02\n",
      "  2.8000e+01 1.1200e+01 4.1200e+01 2.5400e+01]\n",
      " [1.9000e+01 6.8000e+00 2.8000e+01 9.6000e+00 1.6200e+01 2.3800e+01\n",
      "  1.0984e+03 3.4000e+00 2.1400e+01 7.0000e+00]\n",
      " [4.8000e+00 1.1200e+01 2.8000e+01 1.9800e+01 1.7800e+01 8.4000e+00\n",
      "  3.0000e+00 1.1658e+03 1.2400e+01 3.6800e+01]\n",
      " [1.6600e+01 2.0600e+01 4.3600e+01 4.7800e+01 2.2800e+01 4.6400e+01\n",
      "  2.1000e+01 1.6600e+01 9.6520e+02 3.4000e+01]\n",
      " [8.4000e+00 7.6000e+00 1.4200e+01 2.5200e+01 6.4600e+01 2.6400e+01\n",
      "  6.4000e+00 4.3200e+01 3.0200e+01 1.0288e+03]] ([[21.60555484  0.63245553  2.82842712  2.33238076  3.03315018  6.82348884\n",
      "   5.03587132  3.65513338  2.78567766  4.53431362]\n",
      " [ 1.16619038 17.46539436  3.09838668  2.05912603  1.49666295  1.72046505\n",
      "   2.92574777  1.72046505  2.65329983  1.2       ]\n",
      " [ 3.38230691  4.1761226  24.0033331   9.03327183  2.89827535  1.8973666\n",
      "   2.31516738  5.16139516  6.01331855  3.76297754]\n",
      " [ 2.19089023  1.95959179  3.96988665 41.60961427  1.49666295  7.4993333\n",
      "   2.48193473  5.88557559  9.18694726  5.88557559]\n",
      " [ 2.57681975  2.13541565  3.55527777  1.54919334 38.19214579  4.84148737\n",
      "   6.52380257  4.26145515  3.92937654 10.51475154]\n",
      " [ 3.65513338  4.621688    5.9126982  11.46472852  2.93938769 24.36062397\n",
      "   5.21536192  4.16653333  5.49181209  5.64269439]\n",
      " [ 4.69041576  2.99332591  5.54977477  1.49666295  3.7094474   3.18747549\n",
      "  33.6962906   2.15406592  2.41660919  3.28633535]\n",
      " [ 2.03960781  2.48193473  6.29285309  7.05407684  3.31058907  2.72763634\n",
      "   1.26491106 20.42939059  1.95959179  5.74108004]\n",
      " [ 2.72763634  2.65329983  8.59302042  9.06421535  2.92574777  7.4993333\n",
      "   3.63318042  1.95959179 19.30181339  4.69041576]\n",
      " [ 2.72763634  3.38230691  1.46969385  4.01995025  9.39361485  6.74091982\n",
      "   2.05912603  5.45527268  4.9959984  19.79292803]])\n"
     ]
    }
   ],
   "source": [
    "DT = DecisionTreeClassifier()\n",
    "dt_params = {\n",
    "    'criterion': ['gini', 'entropy'],\n",
    "    'max_depth':[5, 50, 100],\n",
    "    'min_samples_split': [5, 10, 30],\n",
    "    'max_features':[10, 30, 100, 'sqrt'],\n",
    "}\n",
    "acc, f1, mc = grid_Search(kf, DT, dt_params, X_train, y_train)\n",
    "\n",
    "print(f\"Accuracy mean (std): {np.mean(acc)} ({np.std(acc)})\")\n",
    "print(f\"f1-scores mean (std): {np.mean(f1, axis=0)} ({np.std(f1, axis=0)})\")\n",
    "print(f\"Confusion Matrix mean (std): {np.mean(mc, axis=0)} ({np.std(mc, axis=0)})\")"
   ]
  },
  {
   "cell_type": "markdown",
   "metadata": {},
   "source": [
    "### Naive Bayes"
   ]
  },
  {
   "cell_type": "markdown",
   "metadata": {},
   "source": [
    "#### Gaussian NB"
   ]
  },
  {
   "cell_type": "code",
   "execution_count": null,
   "metadata": {},
   "outputs": [],
   "source": [
    "GNB = GaussianNB()\n",
    "gnb_params = {\n",
    "    \n",
    "}\n",
    "\n",
    "grid_Search(kf, GNB, gnb_params, X_train, y_train)"
   ]
  },
  {
   "cell_type": "markdown",
   "metadata": {},
   "source": [
    "#### Multinomial NB"
   ]
  },
  {
   "cell_type": "code",
   "execution_count": null,
   "metadata": {},
   "outputs": [],
   "source": [
    "MNNB = MultinomialNB()\n",
    "mnnb_params = {\n",
    "    \n",
    "}\n",
    "\n",
    "grid_Search(kf, MNNB, mnnb_params, X_train, y_train)"
   ]
  },
  {
   "cell_type": "markdown",
   "metadata": {},
   "source": [
    "### SVC"
   ]
  },
  {
   "cell_type": "code",
   "execution_count": null,
   "metadata": {},
   "outputs": [],
   "source": [
    "svc = SVC()\n",
    "svc_params = [\n",
    "    {'C': [0.1, 10, 100],\n",
    "     'kernel':['linear', 'rbf', 'sigmoid']},\n",
    "    \n",
    "    {'C': [0.1, 10, 100],\n",
    "     'Kernel': ['poly'],\n",
    "     'degree': [2, 3, 5]},\n",
    "]\n",
    "\n",
    "grid_Search(kf, svc, svc_params, X_train, y_train)\n"
   ]
  }
 ],
 "metadata": {
  "kernelspec": {
   "display_name": "Python 3.10.4 64-bit",
   "language": "python",
   "name": "python3"
  },
  "language_info": {
   "codemirror_mode": {
    "name": "ipython",
    "version": 3
   },
   "file_extension": ".py",
   "mimetype": "text/x-python",
   "name": "python",
   "nbconvert_exporter": "python",
   "pygments_lexer": "ipython3",
   "version": "3.10.4"
  },
  "orig_nbformat": 4,
  "vscode": {
   "interpreter": {
    "hash": "31f2aee4e71d21fbe5cf8b01ff0e069b9275f58929596ceb00d14d90e3e16cd6"
   }
  }
 },
 "nbformat": 4,
 "nbformat_minor": 2
}
