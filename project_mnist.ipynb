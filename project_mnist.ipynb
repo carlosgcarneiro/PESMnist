{
 "cells": [
  {
   "cell_type": "code",
   "execution_count": 1,
   "metadata": {},
   "outputs": [],
   "source": [
    "from IPython.utils import io\n",
    "from joblib import Parallel, delayed\n",
    "\n",
    "# default\n",
    "import numpy as np\n",
    "import pandas as pd\n",
    "import matplotlib.pyplot as plt\n",
    "import seaborn as sns\n",
    "from scipy.io.arff import loadarff      # to load the arff file from OpenML \n",
    "\n",
    "# pre-processing\n",
    "from sklearn.preprocessing import label_binarize, StandardScaler\n",
    "from sklearn.feature_selection import VarianceThreshold\n",
    "from sklearn.decomposition import PCA\n",
    "from sklearn.pipeline import Pipeline\n",
    "from sklearn.model_selection import(\n",
    "    cross_validate,\n",
    "    train_test_split, \n",
    "    StratifiedKFold,\n",
    "    GridSearchCV,\n",
    ")\n",
    "\n",
    "# models\n",
    "from sklearn.neighbors import KNeighborsClassifier\n",
    "from sklearn.tree import DecisionTreeClassifier\n",
    "from sklearn.naive_bayes import GaussianNB, MultinomialNB\n",
    "from sklearn.svm import SVC\n",
    "\n",
    "import tensorflow as tf\n",
    "from keras.utils import to_categorical\n",
    "from keras.optimizers import SGD, Adam, Adamax\n",
    "from keras.wrappers.scikit_learn import KerasClassifier\n",
    "\n",
    "#utils\n",
    "from utils.mlp import MLP                           # MLP implementado no Keras para utilização da GPU\n",
    "from utils.encoder import Encoder\n",
    "from utils.metrics import Metrics, Results          # Funções auxiliares para computar, plotar e salvar métricas\n",
    "\n",
    "import warnings\n",
    "warnings.filterwarnings('ignore')"
   ]
  },
  {
   "cell_type": "markdown",
   "metadata": {},
   "source": [
    "Limitando o uso de VRAM"
   ]
  },
  {
   "cell_type": "code",
   "execution_count": 2,
   "metadata": {},
   "outputs": [
    {
     "name": "stderr",
     "output_type": "stream",
     "text": [
      "2022-09-21 12:53:03.973035: E tensorflow/stream_executor/cuda/cuda_driver.cc:271] failed call to cuInit: CUDA_ERROR_UNKNOWN: unknown error\n",
      "2022-09-21 12:53:03.973094: I tensorflow/stream_executor/cuda/cuda_diagnostics.cc:169] retrieving CUDA diagnostic information for host: kel\n",
      "2022-09-21 12:53:03.973101: I tensorflow/stream_executor/cuda/cuda_diagnostics.cc:176] hostname: kel\n",
      "2022-09-21 12:53:03.973241: I tensorflow/stream_executor/cuda/cuda_diagnostics.cc:200] libcuda reported version is: 515.65.1\n",
      "2022-09-21 12:53:03.973259: I tensorflow/stream_executor/cuda/cuda_diagnostics.cc:204] kernel reported version is: 515.65.1\n",
      "2022-09-21 12:53:03.973263: I tensorflow/stream_executor/cuda/cuda_diagnostics.cc:310] kernel version seems to match DSO: 515.65.1\n"
     ]
    }
   ],
   "source": [
    "gpus = tf.config.experimental.list_physical_devices('GPU')\n",
    "if gpus:\n",
    "    try:\n",
    "        for gpu in gpus:\n",
    "            tf.config.experimental.set_memory_growth(gpu, True)\n",
    "\n",
    "    except RuntimeError as e:\n",
    "        print(e)"
   ]
  },
  {
   "cell_type": "markdown",
   "metadata": {},
   "source": [
    "## Definição de funções auxiliares"
   ]
  },
  {
   "cell_type": "markdown",
   "metadata": {},
   "source": [
    "### Para K-Fold CV e GridSearch"
   ]
  },
  {
   "cell_type": "code",
   "execution_count": 3,
   "metadata": {},
   "outputs": [],
   "source": [
    "def train_fold(model, X, y, train_index, test_index, grid=False):\n",
    "    X_train, X_test = X[train_index], X[test_index]\n",
    "    y_train, y_test = y.iloc[train_index], y.iloc[test_index]\n",
    "\n",
    "    if type(model).__name__ == 'KerasClassifier':\n",
    "        y_train = to_categorical(y_train, num_classes=10)\n",
    "    else:\n",
    "        y_train = y_train.values.ravel()\n",
    "\n",
    "    with io.capture_output() as captured:   # para previnir o Tensorflow de poluir o output\n",
    "        model.fit(X_train, y_train)\n",
    "        y_pred = model.predict(X_test)\n",
    "        y_score = model.predict_proba(X_test)\n",
    "\n",
    "    accuracy, f1, conf_matrix, roc = Metrics(y_test, y_pred, y_score).compute()\n",
    "    \n",
    "    results = dict(acc=accuracy, f1=f1, cm=conf_matrix, roc=roc)\n",
    "\n",
    "    if grid:\n",
    "        results['gr'] = model.cv_results_\n",
    "        print(model.best_params_)\n",
    "    \n",
    "    return results\n",
    "\n",
    "\n",
    "def parallel_cv(model, X, y, kf, n_jobs=1, grid=False):\n",
    "    out = Parallel(n_jobs=n_jobs, verbose=0)(\n",
    "        delayed(train_fold)(\n",
    "            model, X, y, train_idx, test_idx, grid=grid\n",
    "        ) for train_idx, test_idx in kf.split(X, y)\n",
    "    )\n",
    "    return out\n",
    "\n",
    "\n",
    "def get_metrics(out, grid=False):\n",
    "    acc = [m['acc'] for m in out]\n",
    "    f1 = [m['f1'] for m in out]\n",
    "    cm = [m['cm'] for m in out]\n",
    "    roc = [m['roc'] for m in out]\n",
    "\n",
    "    if grid:\n",
    "        gr = [m['gr'] for m in out]\n",
    "        return acc, f1, cm, roc, gr\n",
    "\n",
    "    return acc, f1, cm, roc"
   ]
  },
  {
   "cell_type": "markdown",
   "metadata": {},
   "source": [
    "#### Do the experiment with the model"
   ]
  },
  {
   "cell_type": "code",
   "execution_count": 4,
   "metadata": {},
   "outputs": [],
   "source": [
    "def experiment(filename, pipe, X, y, kf, n_jobs=1, plot=False):\n",
    "    mdl_acc, mdl_f1, mdl_cm, mdl_roc = get_metrics(\n",
    "        parallel_cv(pipe, X, y, kf, n_jobs)\n",
    "    )\n",
    "    \n",
    "    mdl_results = Results(filename, mdl_acc, mdl_f1,\n",
    "                          mdl_cm, mdl_roc, '')\n",
    "    mdl_results.save()\n",
    "    mdl_results.plot()\n",
    "\n",
    "def make_preps(pipes:dict, X, y, kf, n_jobs=1):\n",
    "    for filename, pipe in pipes.items():\n",
    "        experiment(filename, pipe, X, y, kf, n_jobs)\n",
    "        "
   ]
  },
  {
   "cell_type": "markdown",
   "metadata": {},
   "source": [
    "### Visualização de instâncias do DS"
   ]
  },
  {
   "cell_type": "code",
   "execution_count": 5,
   "metadata": {},
   "outputs": [],
   "source": [
    "# plot multiple numbers\n",
    "\n",
    "def plot_images(images):\n",
    "    n_images = len(images)\n",
    "\n",
    "    rows = int(np.sqrt(n_images))\n",
    "    cols = int(np.sqrt(n_images))\n",
    "\n",
    "    fig = plt.figure()\n",
    "    for i in range(rows*cols):\n",
    "        ax = fig.add_subplot(rows, cols, i+1)\n",
    "        ax.imshow(images[i], cmap='gray_r')\n",
    "        ax.axis('off')\n",
    "    \n",
    "    fig.suptitle('Representação de números aleatórios do dataset')"
   ]
  },
  {
   "cell_type": "markdown",
   "metadata": {},
   "source": [
    "# DataSet"
   ]
  },
  {
   "cell_type": "markdown",
   "metadata": {},
   "source": [
    "### Carregando o DataSet"
   ]
  },
  {
   "cell_type": "code",
   "execution_count": 6,
   "metadata": {},
   "outputs": [],
   "source": [
    "# loading data\n",
    "raw_data = loadarff('mnist_784.arff')\n",
    "mnist = pd.DataFrame(raw_data[0])"
   ]
  },
  {
   "cell_type": "markdown",
   "metadata": {},
   "source": [
    "Devido à limitações de hardware, tomaremos uma amostra estratificada de tamanho n = 5000"
   ]
  },
  {
   "cell_type": "code",
   "execution_count": 7,
   "metadata": {},
   "outputs": [
    {
     "data": {
      "text/html": [
       "<div>\n",
       "<style scoped>\n",
       "    .dataframe tbody tr th:only-of-type {\n",
       "        vertical-align: middle;\n",
       "    }\n",
       "\n",
       "    .dataframe tbody tr th {\n",
       "        vertical-align: top;\n",
       "    }\n",
       "\n",
       "    .dataframe thead th {\n",
       "        text-align: right;\n",
       "    }\n",
       "</style>\n",
       "<table border=\"1\" class=\"dataframe\">\n",
       "  <thead>\n",
       "    <tr style=\"text-align: right;\">\n",
       "      <th></th>\n",
       "      <th>pixel1</th>\n",
       "      <th>pixel2</th>\n",
       "      <th>pixel3</th>\n",
       "      <th>pixel4</th>\n",
       "      <th>pixel5</th>\n",
       "      <th>pixel6</th>\n",
       "      <th>pixel7</th>\n",
       "      <th>pixel8</th>\n",
       "      <th>pixel9</th>\n",
       "      <th>pixel10</th>\n",
       "      <th>...</th>\n",
       "      <th>pixel775</th>\n",
       "      <th>pixel776</th>\n",
       "      <th>pixel777</th>\n",
       "      <th>pixel778</th>\n",
       "      <th>pixel779</th>\n",
       "      <th>pixel780</th>\n",
       "      <th>pixel781</th>\n",
       "      <th>pixel782</th>\n",
       "      <th>pixel783</th>\n",
       "      <th>pixel784</th>\n",
       "    </tr>\n",
       "  </thead>\n",
       "  <tbody>\n",
       "    <tr>\n",
       "      <th>count</th>\n",
       "      <td>5000.0</td>\n",
       "      <td>5000.0</td>\n",
       "      <td>5000.0</td>\n",
       "      <td>5000.0</td>\n",
       "      <td>5000.0</td>\n",
       "      <td>5000.0</td>\n",
       "      <td>5000.0</td>\n",
       "      <td>5000.0</td>\n",
       "      <td>5000.0</td>\n",
       "      <td>5000.0</td>\n",
       "      <td>...</td>\n",
       "      <td>5000.000000</td>\n",
       "      <td>5000.000000</td>\n",
       "      <td>5000.000000</td>\n",
       "      <td>5000.000000</td>\n",
       "      <td>5000.000000</td>\n",
       "      <td>5000.000000</td>\n",
       "      <td>5000.0</td>\n",
       "      <td>5000.0</td>\n",
       "      <td>5000.0</td>\n",
       "      <td>5000.0</td>\n",
       "    </tr>\n",
       "    <tr>\n",
       "      <th>mean</th>\n",
       "      <td>0.0</td>\n",
       "      <td>0.0</td>\n",
       "      <td>0.0</td>\n",
       "      <td>0.0</td>\n",
       "      <td>0.0</td>\n",
       "      <td>0.0</td>\n",
       "      <td>0.0</td>\n",
       "      <td>0.0</td>\n",
       "      <td>0.0</td>\n",
       "      <td>0.0</td>\n",
       "      <td>...</td>\n",
       "      <td>0.093400</td>\n",
       "      <td>0.254400</td>\n",
       "      <td>0.145200</td>\n",
       "      <td>0.044000</td>\n",
       "      <td>0.053200</td>\n",
       "      <td>0.012400</td>\n",
       "      <td>0.0</td>\n",
       "      <td>0.0</td>\n",
       "      <td>0.0</td>\n",
       "      <td>0.0</td>\n",
       "    </tr>\n",
       "    <tr>\n",
       "      <th>std</th>\n",
       "      <td>0.0</td>\n",
       "      <td>0.0</td>\n",
       "      <td>0.0</td>\n",
       "      <td>0.0</td>\n",
       "      <td>0.0</td>\n",
       "      <td>0.0</td>\n",
       "      <td>0.0</td>\n",
       "      <td>0.0</td>\n",
       "      <td>0.0</td>\n",
       "      <td>0.0</td>\n",
       "      <td>...</td>\n",
       "      <td>3.179984</td>\n",
       "      <td>7.708772</td>\n",
       "      <td>4.904093</td>\n",
       "      <td>2.575848</td>\n",
       "      <td>3.464617</td>\n",
       "      <td>0.876812</td>\n",
       "      <td>0.0</td>\n",
       "      <td>0.0</td>\n",
       "      <td>0.0</td>\n",
       "      <td>0.0</td>\n",
       "    </tr>\n",
       "    <tr>\n",
       "      <th>min</th>\n",
       "      <td>0.0</td>\n",
       "      <td>0.0</td>\n",
       "      <td>0.0</td>\n",
       "      <td>0.0</td>\n",
       "      <td>0.0</td>\n",
       "      <td>0.0</td>\n",
       "      <td>0.0</td>\n",
       "      <td>0.0</td>\n",
       "      <td>0.0</td>\n",
       "      <td>0.0</td>\n",
       "      <td>...</td>\n",
       "      <td>0.000000</td>\n",
       "      <td>0.000000</td>\n",
       "      <td>0.000000</td>\n",
       "      <td>0.000000</td>\n",
       "      <td>0.000000</td>\n",
       "      <td>0.000000</td>\n",
       "      <td>0.0</td>\n",
       "      <td>0.0</td>\n",
       "      <td>0.0</td>\n",
       "      <td>0.0</td>\n",
       "    </tr>\n",
       "    <tr>\n",
       "      <th>25%</th>\n",
       "      <td>0.0</td>\n",
       "      <td>0.0</td>\n",
       "      <td>0.0</td>\n",
       "      <td>0.0</td>\n",
       "      <td>0.0</td>\n",
       "      <td>0.0</td>\n",
       "      <td>0.0</td>\n",
       "      <td>0.0</td>\n",
       "      <td>0.0</td>\n",
       "      <td>0.0</td>\n",
       "      <td>...</td>\n",
       "      <td>0.000000</td>\n",
       "      <td>0.000000</td>\n",
       "      <td>0.000000</td>\n",
       "      <td>0.000000</td>\n",
       "      <td>0.000000</td>\n",
       "      <td>0.000000</td>\n",
       "      <td>0.0</td>\n",
       "      <td>0.0</td>\n",
       "      <td>0.0</td>\n",
       "      <td>0.0</td>\n",
       "    </tr>\n",
       "    <tr>\n",
       "      <th>50%</th>\n",
       "      <td>0.0</td>\n",
       "      <td>0.0</td>\n",
       "      <td>0.0</td>\n",
       "      <td>0.0</td>\n",
       "      <td>0.0</td>\n",
       "      <td>0.0</td>\n",
       "      <td>0.0</td>\n",
       "      <td>0.0</td>\n",
       "      <td>0.0</td>\n",
       "      <td>0.0</td>\n",
       "      <td>...</td>\n",
       "      <td>0.000000</td>\n",
       "      <td>0.000000</td>\n",
       "      <td>0.000000</td>\n",
       "      <td>0.000000</td>\n",
       "      <td>0.000000</td>\n",
       "      <td>0.000000</td>\n",
       "      <td>0.0</td>\n",
       "      <td>0.0</td>\n",
       "      <td>0.0</td>\n",
       "      <td>0.0</td>\n",
       "    </tr>\n",
       "    <tr>\n",
       "      <th>75%</th>\n",
       "      <td>0.0</td>\n",
       "      <td>0.0</td>\n",
       "      <td>0.0</td>\n",
       "      <td>0.0</td>\n",
       "      <td>0.0</td>\n",
       "      <td>0.0</td>\n",
       "      <td>0.0</td>\n",
       "      <td>0.0</td>\n",
       "      <td>0.0</td>\n",
       "      <td>0.0</td>\n",
       "      <td>...</td>\n",
       "      <td>0.000000</td>\n",
       "      <td>0.000000</td>\n",
       "      <td>0.000000</td>\n",
       "      <td>0.000000</td>\n",
       "      <td>0.000000</td>\n",
       "      <td>0.000000</td>\n",
       "      <td>0.0</td>\n",
       "      <td>0.0</td>\n",
       "      <td>0.0</td>\n",
       "      <td>0.0</td>\n",
       "    </tr>\n",
       "    <tr>\n",
       "      <th>max</th>\n",
       "      <td>0.0</td>\n",
       "      <td>0.0</td>\n",
       "      <td>0.0</td>\n",
       "      <td>0.0</td>\n",
       "      <td>0.0</td>\n",
       "      <td>0.0</td>\n",
       "      <td>0.0</td>\n",
       "      <td>0.0</td>\n",
       "      <td>0.0</td>\n",
       "      <td>0.0</td>\n",
       "      <td>...</td>\n",
       "      <td>156.000000</td>\n",
       "      <td>253.000000</td>\n",
       "      <td>252.000000</td>\n",
       "      <td>177.000000</td>\n",
       "      <td>244.000000</td>\n",
       "      <td>62.000000</td>\n",
       "      <td>0.0</td>\n",
       "      <td>0.0</td>\n",
       "      <td>0.0</td>\n",
       "      <td>0.0</td>\n",
       "    </tr>\n",
       "  </tbody>\n",
       "</table>\n",
       "<p>8 rows × 784 columns</p>\n",
       "</div>"
      ],
      "text/plain": [
       "       pixel1  pixel2  pixel3  pixel4  pixel5  pixel6  pixel7  pixel8  pixel9  \\\n",
       "count  5000.0  5000.0  5000.0  5000.0  5000.0  5000.0  5000.0  5000.0  5000.0   \n",
       "mean      0.0     0.0     0.0     0.0     0.0     0.0     0.0     0.0     0.0   \n",
       "std       0.0     0.0     0.0     0.0     0.0     0.0     0.0     0.0     0.0   \n",
       "min       0.0     0.0     0.0     0.0     0.0     0.0     0.0     0.0     0.0   \n",
       "25%       0.0     0.0     0.0     0.0     0.0     0.0     0.0     0.0     0.0   \n",
       "50%       0.0     0.0     0.0     0.0     0.0     0.0     0.0     0.0     0.0   \n",
       "75%       0.0     0.0     0.0     0.0     0.0     0.0     0.0     0.0     0.0   \n",
       "max       0.0     0.0     0.0     0.0     0.0     0.0     0.0     0.0     0.0   \n",
       "\n",
       "       pixel10  ...     pixel775     pixel776     pixel777     pixel778  \\\n",
       "count   5000.0  ...  5000.000000  5000.000000  5000.000000  5000.000000   \n",
       "mean       0.0  ...     0.093400     0.254400     0.145200     0.044000   \n",
       "std        0.0  ...     3.179984     7.708772     4.904093     2.575848   \n",
       "min        0.0  ...     0.000000     0.000000     0.000000     0.000000   \n",
       "25%        0.0  ...     0.000000     0.000000     0.000000     0.000000   \n",
       "50%        0.0  ...     0.000000     0.000000     0.000000     0.000000   \n",
       "75%        0.0  ...     0.000000     0.000000     0.000000     0.000000   \n",
       "max        0.0  ...   156.000000   253.000000   252.000000   177.000000   \n",
       "\n",
       "          pixel779     pixel780  pixel781  pixel782  pixel783  pixel784  \n",
       "count  5000.000000  5000.000000    5000.0    5000.0    5000.0    5000.0  \n",
       "mean      0.053200     0.012400       0.0       0.0       0.0       0.0  \n",
       "std       3.464617     0.876812       0.0       0.0       0.0       0.0  \n",
       "min       0.000000     0.000000       0.0       0.0       0.0       0.0  \n",
       "25%       0.000000     0.000000       0.0       0.0       0.0       0.0  \n",
       "50%       0.000000     0.000000       0.0       0.0       0.0       0.0  \n",
       "75%       0.000000     0.000000       0.0       0.0       0.0       0.0  \n",
       "max     244.000000    62.000000       0.0       0.0       0.0       0.0  \n",
       "\n",
       "[8 rows x 784 columns]"
      ]
     },
     "execution_count": 7,
     "metadata": {},
     "output_type": "execute_result"
    }
   ],
   "source": [
    "df = mnist.groupby('class', group_keys=False).apply(\n",
    "    lambda x: x.sample(500, random_state=1, ignore_index=True)\n",
    "    ).sample(frac=1, ignore_index=True, random_state=1)\n",
    "\n",
    "df.describe()"
   ]
  },
  {
   "cell_type": "code",
   "execution_count": 8,
   "metadata": {},
   "outputs": [
    {
     "data": {
      "image/png": "[encoded data removed]",
      "text/plain": [
       "<Figure size 640x480 with 36 Axes>"
      ]
     },
     "metadata": {},
     "output_type": "display_data"
    }
   ],
   "source": [
    "# Visualizando algumas instância do dataset\n",
    "nums = df['class'].unique()\n",
    "\n",
    "imgs = list()\n",
    "for i in np.random.randint(100, size=36):\n",
    "    rnd_choice = np.random.choice(nums)\n",
    "    img = pd.array(df[df['class'] == rnd_choice].iloc[i][:-1],\n",
    "                   dtype=int).reshape((28,28))\n",
    "    imgs.append(img)\n",
    "\n",
    "plot_images(imgs)\n"
   ]
  },
  {
   "cell_type": "markdown",
   "metadata": {},
   "source": [
    "# Preprocessing\n"
   ]
  },
  {
   "cell_type": "code",
   "execution_count": 9,
   "metadata": {},
   "outputs": [],
   "source": [
    "# treino e teste\n",
    "X = df.iloc[:, 0:-1].values\n",
    "y = df.iloc[:, [-1]].astype('int') # target\n",
    "\n",
    "X_train, X_test, y_train, y_test = train_test_split(X, y, test_size=0.1)\n",
    "\n",
    "inner_cv = StratifiedKFold(n_splits=5, shuffle=True, random_state=0)\n",
    "outer_cv = StratifiedKFold(n_splits=10, shuffle=True, random_state=0)"
   ]
  },
  {
   "cell_type": "markdown",
   "metadata": {},
   "source": [
    "# Experimentos"
   ]
  },
  {
   "cell_type": "markdown",
   "metadata": {},
   "source": [
    "### Decision Tree"
   ]
  },
  {
   "cell_type": "code",
   "execution_count": 12,
   "metadata": {},
   "outputs": [
    {
     "name": "stdout",
     "output_type": "stream",
     "text": [
      "Resumo das métricas do modelo dt_pca\n",
      "\n",
      "Accurácia média (desvio): 0.726 (0.013)\n",
      "F1-Score média (desvio): 0.725 (0.013)\n"
     ]
    }
   ],
   "source": [
    "pipe_dt_pca = Pipeline([\n",
    "    ('pca', PCA(0.95)),\n",
    "    ('clf', DecisionTreeClassifier(criterion='entropy',max_depth=50,\n",
    "                                          max_features=100, min_samples_split=10))\n",
    "])\n",
    "\n",
    "experiment('dt_pca', pipe_dt_pca, X_train, y_train, outer_cv, n_jobs=5)"
   ]
  },
  {
   "cell_type": "markdown",
   "metadata": {},
   "source": [
    "### Naive Bayes"
   ]
  },
  {
   "cell_type": "markdown",
   "metadata": {},
   "source": [
    "#### Gaussian NB"
   ]
  },
  {
   "cell_type": "code",
   "execution_count": 53,
   "metadata": {},
   "outputs": [],
   "source": [
    "gnb_pipes = {\n",
    "    # 'gnb_enc': Pipeline([\n",
    "    #     ('enc', encoder_50),\n",
    "    #     ('clf', GaussianNB(var_smoothing=0.1))\n",
    "    # ]),\n",
    "    'gnb': Pipeline([\n",
    "        ('clf', GaussianNB(var_smoothing=0.1))\n",
    "    ]),\n",
    "    'gnb_pca': Pipeline([\n",
    "        ('pca', PCA(0.8)),\n",
    "        ('clf', GaussianNB(var_smoothing=0.1))\n",
    "    ]),\n",
    "    'gnb_scaler': Pipeline([\n",
    "        ('scaler', StandardScaler()),\n",
    "        ('clf', GaussianNB(var_smoothing=0.1))\n",
    "    ]),\n",
    "    'gnb_pca_scaler': Pipeline([\n",
    "        ('scaler', StandardScaler()),\n",
    "        ('pca', PCA(0.8)),\n",
    "        ('clf', GaussianNB(var_smoothing=0.1))\n",
    "    ]),\n",
    "}\n",
    "\n",
    "make_preps(gnb_pipes, X_train, y_train, outer_cv, n_jobs=5)\n"
   ]
  },
  {
   "cell_type": "markdown",
   "metadata": {},
   "source": [
    "#### Multinomial NB"
   ]
  },
  {
   "cell_type": "code",
   "execution_count": 51,
   "metadata": {},
   "outputs": [],
   "source": [
    "mnb_pipes = {\n",
    "    'mnb_fs': Pipeline([('fs', VarianceThreshold()),\n",
    "                        ('clf', MultinomialNB(alpha=0.01))]),\n",
    "}\n",
    "\n",
    "\n",
    "make_preps(mnb_pipes, X_train, y_train, outer_cv, n_jobs=5)"
   ]
  },
  {
   "cell_type": "markdown",
   "metadata": {},
   "source": [
    "### KNN"
   ]
  },
  {
   "cell_type": "code",
   "execution_count": 12,
   "metadata": {},
   "outputs": [
    {
     "name": "stdout",
     "output_type": "stream",
     "text": [
      "Resumo das métricas do modelo knn\n",
      "Accurácia média (desvio): 0.924 (0.012)\n",
      "F1-Score média (desvio): 0.924 (0.011)\n",
      "\n"
     ]
    },
    {
     "name": "stderr",
     "output_type": "stream",
     "text": [
      "2022-09-21 12:55:51.710701: E tensorflow/stream_executor/cuda/cuda_driver.cc:271] failed call to cuInit: CUDA_ERROR_UNKNOWN: unknown error\n",
      "2022-09-21 12:55:51.711475: I tensorflow/stream_executor/cuda/cuda_diagnostics.cc:169] retrieving CUDA diagnostic information for host: kel\n",
      "2022-09-21 12:55:51.711528: I tensorflow/stream_executor/cuda/cuda_diagnostics.cc:176] hostname: kel\n",
      "2022-09-21 12:55:51.712063: I tensorflow/stream_executor/cuda/cuda_diagnostics.cc:200] libcuda reported version is: 515.65.1\n",
      "2022-09-21 12:55:51.712808: I tensorflow/stream_executor/cuda/cuda_diagnostics.cc:204] kernel reported version is: 515.65.1\n",
      "2022-09-21 12:55:51.712960: I tensorflow/stream_executor/cuda/cuda_diagnostics.cc:310] kernel version seems to match DSO: 515.65.1\n",
      "2022-09-21 12:55:51.713749: I tensorflow/core/platform/cpu_feature_guard.cc:193] This TensorFlow binary is optimized with oneAPI Deep Neural Network Library (oneDNN) to use the following CPU instructions in performance-critical operations:  AVX2 FMA\n",
      "To enable them in other operations, rebuild TensorFlow with the appropriate compiler flags.\n",
      "2022-09-21 12:56:10.610794: E tensorflow/stream_executor/cuda/cuda_driver.cc:271] failed call to cuInit: CUDA_ERROR_UNKNOWN: unknown error\n",
      "2022-09-21 12:56:10.610838: I tensorflow/stream_executor/cuda/cuda_diagnostics.cc:169] retrieving CUDA diagnostic information for host: kel\n",
      "2022-09-21 12:56:10.610848: I tensorflow/stream_executor/cuda/cuda_diagnostics.cc:176] hostname: kel\n",
      "2022-09-21 12:56:10.611008: I tensorflow/stream_executor/cuda/cuda_diagnostics.cc:200] libcuda reported version is: 515.65.1\n",
      "2022-09-21 12:56:10.611031: I tensorflow/stream_executor/cuda/cuda_diagnostics.cc:204] kernel reported version is: 515.65.1\n",
      "2022-09-21 12:56:10.611035: I tensorflow/stream_executor/cuda/cuda_diagnostics.cc:310] kernel version seems to match DSO: 515.65.1\n",
      "2022-09-21 12:56:10.611351: I tensorflow/core/platform/cpu_feature_guard.cc:193] This TensorFlow binary is optimized with oneAPI Deep Neural Network Library (oneDNN) to use the following CPU instructions in performance-critical operations:  AVX2 FMA\n",
      "To enable them in other operations, rebuild TensorFlow with the appropriate compiler flags.\n"
     ]
    },
    {
     "name": "stdout",
     "output_type": "stream",
     "text": [
      "Resumo das métricas do modelo knn_enc\n",
      "Accurácia média (desvio): 0.909 (0.013)\n",
      "F1-Score média (desvio): 0.908 (0.013)\n",
      "\n",
      "Resumo das métricas do modelo knn_pca\n",
      "Accurácia média (desvio): 0.937 (0.009)\n",
      "F1-Score média (desvio): 0.937 (0.009)\n",
      "\n",
      "Resumo das métricas do modelo knn_pca_scaler\n",
      "Accurácia média (desvio): 0.908 (0.011)\n",
      "F1-Score média (desvio): 0.907 (0.011)\n",
      "\n",
      "Resumo das métricas do modelo knn_fs\n",
      "Accurácia média (desvio): 0.924 (0.012)\n",
      "F1-Score média (desvio): 0.924 (0.011)\n",
      "\n"
     ]
    }
   ],
   "source": [
    "knn_pipes = {\n",
    "    'knn': Pipeline([\n",
    "        ('clf', KNeighborsClassifier(n_neighbors=3,metric='euclidean', n_jobs=-1))\n",
    "    ]),\n",
    "\n",
    "    'knn_enc': Pipeline([\n",
    "        ('enc', Encoder(0.5)),\n",
    "        ('clf', KNeighborsClassifier(n_neighbors=3,metric='euclidean', n_jobs=-1))\n",
    "    ]),\n",
    "\n",
    "    'knn_pca': Pipeline([\n",
    "        ('pca', PCA(0.8)),\n",
    "        ('clf', KNeighborsClassifier(n_neighbors=3,metric='euclidean', n_jobs=-1))\n",
    "    ]),\n",
    "\n",
    "    'knn_pca_scaler': Pipeline([\n",
    "        ('scaler', StandardScaler()),\n",
    "        ('pca', PCA(0.8)),\n",
    "        ('clf', KNeighborsClassifier(n_neighbors=3,metric='euclidean', n_jobs=-1))\n",
    "    ]),\n",
    "\n",
    "    'knn_fs': Pipeline([\n",
    "        ('fs', VarianceThreshold(0.1)),\n",
    "        ('clf', KNeighborsClassifier(n_neighbors=3,metric='euclidean', n_jobs=-1))\n",
    "    ]),\n",
    "}\n",
    "\n",
    "make_preps(knn_pipes, X_train, y_train, outer_cv, n_jobs=5)\n"
   ]
  },
  {
   "cell_type": "markdown",
   "metadata": {},
   "source": [
    "### SVC"
   ]
  },
  {
   "cell_type": "code",
   "execution_count": 16,
   "metadata": {},
   "outputs": [
    {
     "name": "stdout",
     "output_type": "stream",
     "text": [
      "Resumo das métricas do modelo svc\n",
      "Accurácia média (desvio): 0.943 (0.011)\n",
      "F1-Score média (desvio): 0.943 (0.011)\n",
      "\n",
      "Resumo das métricas do modelo svc_pca\n",
      "Accurácia média (desvio): 0.947 (0.014)\n",
      "F1-Score média (desvio): 0.947 (0.014)\n",
      "\n",
      "Resumo das métricas do modelo svc_scaler\n",
      "Accurácia média (desvio): 0.932 (0.013)\n",
      "F1-Score média (desvio): 0.932 (0.013)\n",
      "\n",
      "Resumo das métricas do modelo svc_pca_scaler\n",
      "Accurácia média (desvio): 0.932 (0.013)\n",
      "F1-Score média (desvio): 0.932 (0.013)\n",
      "\n",
      "Resumo das métricas do modelo svc_fs\n",
      "Accurácia média (desvio): 0.943 (0.011)\n",
      "F1-Score média (desvio): 0.943 (0.011)\n",
      "\n",
      "Resumo das métricas do modelo svc_fs_pca\n",
      "Accurácia média (desvio): 0.947 (0.014)\n",
      "F1-Score média (desvio): 0.947 (0.014)\n",
      "\n"
     ]
    }
   ],
   "source": [
    "svc_pipes = {\n",
    "    'svc': Pipeline([\n",
    "        ('clf', SVC(C=10000, kernel='poly', degree=2, probability=True))\n",
    "    ]),\n",
    "    'svc_pca': Pipeline([\n",
    "        ('pca', PCA(0.95)),\n",
    "        ('clf', SVC(C=10000, kernel='poly', degree=2, probability=True))\n",
    "    ]),\n",
    "    'svc_scaler': Pipeline([\n",
    "        ('scaler', StandardScaler()),\n",
    "        ('clf', SVC(C=10000, kernel='poly', degree=2, probability=True))\n",
    "    ]),\n",
    "    'svc_pca_scaler': Pipeline([\n",
    "        ('scaler', StandardScaler()),\n",
    "        ('pca', PCA(0.95)),\n",
    "        ('clf', SVC(C=10000, kernel='poly', degree=2, probability=True))\n",
    "    ]),\n",
    "    'svc_fs': Pipeline([\n",
    "        ('fs', VarianceThreshold(0.1)),\n",
    "        ('clf', SVC(C=10000, kernel='poly', degree=2, probability=True))\n",
    "    ]),\n",
    "    'svc_fs_pca': Pipeline([\n",
    "        ('fs', VarianceThreshold(0.1)),\n",
    "        ('pca', PCA(0.95)),\n",
    "        ('clf', SVC(C=10000, kernel='poly', degree=2, probability=True))\n",
    "    ]),\n",
    "}\n",
    "\n",
    "make_preps(svc_pipes, X_train, y_train, outer_cv, n_jobs=5)\n"
   ]
  },
  {
   "cell_type": "markdown",
   "metadata": {},
   "source": [
    "### MLP"
   ]
  },
  {
   "cell_type": "code",
   "execution_count": 52,
   "metadata": {},
   "outputs": [],
   "source": [
    "mlp_pipes = {\n",
    "    'mlp': Pipeline([\n",
    "        ('clf', KerasClassifier(build_fn=MLP, n_classes=10, epochs=50, batch_size=256,\n",
    "                                n_neurons=[1000,1000,1000], input_shape=(28*28,)))\n",
    "    ]),\n",
    "    'mlp_scaler': Pipeline([\n",
    "        ('scaler', StandardScaler()),\n",
    "        ('clf', KerasClassifier(build_fn=MLP, n_classes=10, epochs=50, batch_size=256,\n",
    "                                n_neurons=[1000,1000,1000], input_shape=(28*28,)))\n",
    "    ]),\n",
    "    'mlp_pca': Pipeline([\n",
    "        ('pca', PCA(148)),\n",
    "        ('clf', KerasClassifier(build_fn=MLP, n_classes=10, epochs=50, batch_size=256,\n",
    "                                n_neurons=[1000,1000,1000], input_shape=(148,)))\n",
    "    ]),\n",
    "    'mlp_scaler_pca': Pipeline([\n",
    "        ('scaler', StandardScaler()),\n",
    "        ('pca', PCA(148)),\n",
    "        ('clf', KerasClassifier(build_fn=MLP, n_classes=10, epochs=50, batch_size=256,\n",
    "                                n_neurons=[1000,1000,1000], input_shape=(148,)))\n",
    "    ]),\n",
    "}\n",
    "\n",
    "make_preps(mlp_pipes, X_train, y_train, outer_cv)\n"
   ]
  }
 ],
 "metadata": {
  "kernelspec": {
   "display_name": "Python 3 (ipykernel)",
   "language": "python",
   "name": "python3"
  },
  "language_info": {
   "codemirror_mode": {
    "name": "ipython",
    "version": 3
   },
   "file_extension": ".py",
   "mimetype": "text/x-python",
   "name": "python",
   "nbconvert_exporter": "python",
   "pygments_lexer": "ipython3",
   "version": "3.10.4"
  },
  "vscode": {
   "interpreter": {
    "hash": "31f2aee4e71d21fbe5cf8b01ff0e069b9275f58929596ceb00d14d90e3e16cd6"
   }
  }
 },
 "nbformat": 4,
 "nbformat_minor": 2
}
