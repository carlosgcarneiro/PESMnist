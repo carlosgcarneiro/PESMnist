{
 "cells": [
  {
   "cell_type": "code",
   "execution_count": 1,
   "metadata": {},
   "outputs": [],
   "source": [
    "import numpy as np\n",
    "import pandas as pd\n",
    "import matplotlib.pyplot as plt\n",
    "from scipy.io.arff import loadarff\n",
    "\n",
    "from keras.models import Sequential\n",
    "from keras.layers import Dense\n",
    "from keras.utils import to_categorical\n",
    "\n",
    "from sklearn.model_selection import train_test_split, KFold\n",
    "\n",
    "from sklearn.metrics import accuracy_score"
   ]
  },
  {
   "cell_type": "code",
   "execution_count": 2,
   "metadata": {},
   "outputs": [],
   "source": [
    "# loading data\n",
    "raw_data = loadarff('mnist_784.arff')\n",
    "df = pd.DataFrame(raw_data[0])"
   ]
  },
  {
   "cell_type": "code",
   "execution_count": 3,
   "metadata": {},
   "outputs": [],
   "source": [
    "X = df.iloc[:, 0:-1]\n",
    "y = df.iloc[:, [-1]].astype('int') # target\n",
    "\n",
    "X, X_val, y, y_val = train_test_split(X, y, test_size=0.2, shuffle=True)\n",
    "\n",
    "\n",
    "n_classes = 10\n",
    "\n",
    "# Convert target classes to categorical ones\n",
    "y = to_categorical(y, n_classes)\n",
    "\n",
    "kf = KFold(n_splits=10, shuffle=True)"
   ]
  },
  {
   "cell_type": "code",
   "execution_count": 4,
   "metadata": {},
   "outputs": [
    {
     "name": "stderr",
     "output_type": "stream",
     "text": [
      "2022-08-31 14:06:05.376742: I tensorflow/stream_executor/cuda/cuda_gpu_executor.cc:975] successful NUMA node read from SysFS had negative value (-1), but there must be at least one NUMA node, so returning NUMA node zero\n",
      "2022-08-31 14:06:05.404733: I tensorflow/stream_executor/cuda/cuda_gpu_executor.cc:975] successful NUMA node read from SysFS had negative value (-1), but there must be at least one NUMA node, so returning NUMA node zero\n",
      "2022-08-31 14:06:05.404894: I tensorflow/stream_executor/cuda/cuda_gpu_executor.cc:975] successful NUMA node read from SysFS had negative value (-1), but there must be at least one NUMA node, so returning NUMA node zero\n",
      "2022-08-31 14:06:05.405355: I tensorflow/core/platform/cpu_feature_guard.cc:193] This TensorFlow binary is optimized with oneAPI Deep Neural Network Library (oneDNN) to use the following CPU instructions in performance-critical operations:  AVX2 FMA\n",
      "To enable them in other operations, rebuild TensorFlow with the appropriate compiler flags.\n",
      "2022-08-31 14:06:05.405782: I tensorflow/stream_executor/cuda/cuda_gpu_executor.cc:975] successful NUMA node read from SysFS had negative value (-1), but there must be at least one NUMA node, so returning NUMA node zero\n",
      "2022-08-31 14:06:05.405915: I tensorflow/stream_executor/cuda/cuda_gpu_executor.cc:975] successful NUMA node read from SysFS had negative value (-1), but there must be at least one NUMA node, so returning NUMA node zero\n",
      "2022-08-31 14:06:05.406033: I tensorflow/stream_executor/cuda/cuda_gpu_executor.cc:975] successful NUMA node read from SysFS had negative value (-1), but there must be at least one NUMA node, so returning NUMA node zero\n",
      "2022-08-31 14:06:05.700973: I tensorflow/stream_executor/cuda/cuda_gpu_executor.cc:975] successful NUMA node read from SysFS had negative value (-1), but there must be at least one NUMA node, so returning NUMA node zero\n",
      "2022-08-31 14:06:05.701162: I tensorflow/stream_executor/cuda/cuda_gpu_executor.cc:975] successful NUMA node read from SysFS had negative value (-1), but there must be at least one NUMA node, so returning NUMA node zero\n",
      "2022-08-31 14:06:05.701288: I tensorflow/stream_executor/cuda/cuda_gpu_executor.cc:975] successful NUMA node read from SysFS had negative value (-1), but there must be at least one NUMA node, so returning NUMA node zero\n",
      "2022-08-31 14:06:05.701390: I tensorflow/core/common_runtime/gpu/gpu_device.cc:1532] Created device /job:localhost/replica:0/task:0/device:GPU:0 with 9930 MB memory:  -> device: 0, name: NVIDIA GeForce RTX 3060, pci bus id: 0000:07:00.0, compute capability: 8.6\n"
     ]
    }
   ],
   "source": [
    "from utils.mlp import MLP\n",
    "model = MLP(\n",
    "    activation='relu',\n",
    "    loss='categorical_crossentropy',\n",
    "    optimizer='adam',\n",
    "    metrics=['accuracy'],\n",
    "    input_shape=(28*28,),\n",
    "    n_classes=10,\n",
    "    n_neurons=[500, 500, 500]\n",
    ")"
   ]
  },
  {
   "cell_type": "code",
   "execution_count": 5,
   "metadata": {},
   "outputs": [],
   "source": [
    "# results = list()\n",
    "# for fold, (train, test) in enumerate(kf.split(X, y)):\n",
    "#     X_train, X_test = X.iloc[train].values, X.iloc[test].values\n",
    "#     y_train, y_test = y[train], y[test]\n",
    "\n",
    "#     mlp.fit(X_train, y_train, epochs=10, batch_size=128, verbose=0)\n",
    "\n",
    "#     print(f'Fold {fold}')\n",
    "\n",
    "#     y_pred = np.argmax(mlp.predict(X_test), axis=1)\n",
    "#     y_test = np.argmax(y_test, axis=1)\n",
    "#     acc = accuracy_score(y_test, y_pred)\n",
    "\n",
    "#     print(f\"Accuracy: {acc}\")\n",
    "#     results.append(acc)\n",
    "\n",
    "# print(f'Accuracy mean (std): {np.mean(results):.3f} ({np.std(results):.3f})')\n",
    "\n",
    "    "
   ]
  },
  {
   "cell_type": "code",
   "execution_count": 9,
   "metadata": {},
   "outputs": [
    {
     "name": "stdout",
     "output_type": "stream",
     "text": [
      "Epoch 1/20\n",
      "219/219 [==============================] - 0s 2ms/step - loss: 0.0532 - accuracy: 0.9865\n",
      "Epoch 2/20\n",
      "219/219 [==============================] - 0s 2ms/step - loss: 0.0518 - accuracy: 0.9873\n",
      "Epoch 3/20\n",
      "219/219 [==============================] - 0s 1ms/step - loss: 0.0605 - accuracy: 0.9852\n",
      "Epoch 4/20\n",
      "219/219 [==============================] - 0s 2ms/step - loss: 0.0549 - accuracy: 0.9865\n",
      "Epoch 5/20\n",
      "219/219 [==============================] - 0s 2ms/step - loss: 0.0458 - accuracy: 0.9887\n",
      "Epoch 6/20\n",
      "219/219 [==============================] - 0s 2ms/step - loss: 0.0480 - accuracy: 0.9881\n",
      "Epoch 7/20\n",
      "219/219 [==============================] - 0s 2ms/step - loss: 0.0422 - accuracy: 0.9895\n",
      "Epoch 8/20\n",
      "219/219 [==============================] - 0s 2ms/step - loss: 0.0368 - accuracy: 0.9911\n",
      "Epoch 9/20\n",
      "219/219 [==============================] - 0s 2ms/step - loss: 0.0357 - accuracy: 0.9909\n",
      "Epoch 10/20\n",
      "219/219 [==============================] - 0s 2ms/step - loss: 0.0434 - accuracy: 0.9888\n",
      "Epoch 11/20\n",
      "219/219 [==============================] - 0s 2ms/step - loss: 0.0441 - accuracy: 0.9900\n",
      "Epoch 12/20\n",
      "219/219 [==============================] - 0s 2ms/step - loss: 0.0295 - accuracy: 0.9921\n",
      "Epoch 13/20\n",
      "219/219 [==============================] - 0s 2ms/step - loss: 0.0311 - accuracy: 0.9918\n",
      "Epoch 14/20\n",
      "219/219 [==============================] - 0s 2ms/step - loss: 0.0268 - accuracy: 0.9929\n",
      "Epoch 15/20\n",
      "219/219 [==============================] - 0s 2ms/step - loss: 0.0353 - accuracy: 0.9910\n",
      "Epoch 16/20\n",
      "219/219 [==============================] - 0s 2ms/step - loss: 0.0320 - accuracy: 0.9918\n",
      "Epoch 17/20\n",
      "219/219 [==============================] - 0s 2ms/step - loss: 0.0305 - accuracy: 0.9924\n",
      "Epoch 18/20\n",
      "219/219 [==============================] - 0s 2ms/step - loss: 0.0327 - accuracy: 0.9909\n",
      "Epoch 19/20\n",
      "219/219 [==============================] - 0s 2ms/step - loss: 0.0355 - accuracy: 0.9909\n",
      "Epoch 20/20\n",
      "219/219 [==============================] - 0s 2ms/step - loss: 0.0316 - accuracy: 0.9918\n",
      "438/438 [==============================] - 0s 639us/step\n",
      "0.9697857142857143\n"
     ]
    }
   ],
   "source": [
    "model.fit(X, y, epochs=20, batch_size=256)\n",
    "y_pred = np.argmax(model.predict(X_val), axis=1)\n",
    "\n",
    "print(accuracy_score(y_val, y_pred))"
   ]
  },
  {
   "cell_type": "code",
   "execution_count": 7,
   "metadata": {},
   "outputs": [],
   "source": [
    "import random\n",
    "import cv2\n",
    "\n",
    "def sp_noise(image,prob):\n",
    "    '''\n",
    "    Add salt and pepper noise to image\n",
    "    prob: Probability of the noise\n",
    "    '''\n",
    "    output = np.zeros(image.shape,np.uint8)\n",
    "    thres = 1 - prob \n",
    "    for i in range(image.shape[0]):\n",
    "        for j in range(image.shape[1]):\n",
    "            rdn = random.random()\n",
    "            if rdn < prob:\n",
    "                output[i][j] = 0\n",
    "            elif rdn > thres:\n",
    "                output[i][j] = 255\n",
    "            else:\n",
    "                output[i][j] = image[i][j]\n",
    "    return output\n",
    "\n",
    "imgs = ['cinco', 'dois', 'nove', 'oito', 'oito(1)', 'tres']\n",
    "for path in imgs:\n",
    "    image = cv2.imread(f'imgs/{path}.png',0) # Only for grayscale image\n",
    "    noise_img = sp_noise(image, 0.1)\n",
    "    cv2.imwrite(f'noise_imgs/noise_{path}.jpg', noise_img)\n",
    "\n",
    "\n"
   ]
  },
  {
   "cell_type": "code",
   "execution_count": 8,
   "metadata": {},
   "outputs": [
    {
     "ename": "NameError",
     "evalue": "name 'mlp' is not defined",
     "output_type": "error",
     "traceback": [
      "\u001b[0;31m---------------------------------------------------------------------------\u001b[0m",
      "\u001b[0;31mNameError\u001b[0m                                 Traceback (most recent call last)",
      "\u001b[1;32m/home/balieiro/Documents/Embraer/MPD1/PESMnist/keras_mnist.ipynb Cell 8\u001b[0m in \u001b[0;36m<cell line: 3>\u001b[0;34m()\u001b[0m\n\u001b[1;32m      <a href='vscode-notebook-cell:/home/balieiro/Documents/Embraer/MPD1/PESMnist/keras_mnist.ipynb#X10sZmlsZQ%3D%3D?line=2'>3</a>\u001b[0m \u001b[39mfor\u001b[39;00m i \u001b[39min\u001b[39;00m imgs:\n\u001b[1;32m      <a href='vscode-notebook-cell:/home/balieiro/Documents/Embraer/MPD1/PESMnist/keras_mnist.ipynb#X10sZmlsZQ%3D%3D?line=3'>4</a>\u001b[0m     n \u001b[39m=\u001b[39m Num(\n\u001b[1;32m      <a href='vscode-notebook-cell:/home/balieiro/Documents/Embraer/MPD1/PESMnist/keras_mnist.ipynb#X10sZmlsZQ%3D%3D?line=4'>5</a>\u001b[0m         path\u001b[39m=\u001b[39m\u001b[39mf\u001b[39m\u001b[39m'\u001b[39m\u001b[39mnoise_imgs/noise_\u001b[39m\u001b[39m{\u001b[39;00mi\u001b[39m}\u001b[39;00m\u001b[39m.jpg\u001b[39m\u001b[39m'\u001b[39m,\n\u001b[1;32m      <a href='vscode-notebook-cell:/home/balieiro/Documents/Embraer/MPD1/PESMnist/keras_mnist.ipynb#X10sZmlsZQ%3D%3D?line=5'>6</a>\u001b[0m         invert\u001b[39m=\u001b[39m\u001b[39mTrue\u001b[39;00m,\n\u001b[1;32m      <a href='vscode-notebook-cell:/home/balieiro/Documents/Embraer/MPD1/PESMnist/keras_mnist.ipynb#X10sZmlsZQ%3D%3D?line=6'>7</a>\u001b[0m     )\n\u001b[0;32m----> <a href='vscode-notebook-cell:/home/balieiro/Documents/Embraer/MPD1/PESMnist/keras_mnist.ipynb#X10sZmlsZQ%3D%3D?line=8'>9</a>\u001b[0m     \u001b[39mprint\u001b[39m(i, np\u001b[39m.\u001b[39margmax(mlp\u001b[39m.\u001b[39mpredict(n\u001b[39m.\u001b[39mto_array())))\n",
      "\u001b[0;31mNameError\u001b[0m: name 'mlp' is not defined"
     ]
    }
   ],
   "source": [
    "from utils.num import Num\n",
    "\n",
    "for i in imgs:\n",
    "    n = Num(\n",
    "        path=f'noise_imgs/noise_{i}.jpg',\n",
    "        invert=True,\n",
    "    )\n",
    "\n",
    "    print(i, np.argmax(mlp.predict(n.to_array())))\n"
   ]
  }
 ],
 "metadata": {
  "kernelspec": {
   "display_name": "Python 3.10.4 64-bit",
   "language": "python",
   "name": "python3"
  },
  "language_info": {
   "codemirror_mode": {
    "name": "ipython",
    "version": 3
   },
   "file_extension": ".py",
   "mimetype": "text/x-python",
   "name": "python",
   "nbconvert_exporter": "python",
   "pygments_lexer": "ipython3",
   "version": "3.10.4"
  },
  "orig_nbformat": 4,
  "vscode": {
   "interpreter": {
    "hash": "31f2aee4e71d21fbe5cf8b01ff0e069b9275f58929596ceb00d14d90e3e16cd6"
   }
  }
 },
 "nbformat": 4,
 "nbformat_minor": 2
}
