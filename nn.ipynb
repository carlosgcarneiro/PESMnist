{
 "cells": [
  {
   "cell_type": "code",
   "execution_count": 1,
   "metadata": {},
   "outputs": [
    {
     "data": {
      "text/plain": [
       "True"
      ]
     },
     "execution_count": 1,
     "metadata": {},
     "output_type": "execute_result"
    }
   ],
   "source": [
    "import numpy as np\n",
    "import pandas as pd\n",
    "from scipy.io.arff import loadarff \n",
    "\n",
    "from sklearn.model_selection import(\n",
    "    train_test_split, \n",
    "    cross_val_predict,\n",
    "    KFold,\n",
    ")\n",
    "\n",
    "import torch\n",
    "import torch.nn as nn\n",
    "import torch.optim as optim\n",
    "import torch.nn.functional as F\n",
    "from torch.utils.data import (\n",
    "    Dataset, \n",
    "    DataLoader,\n",
    "    TensorDataset,\n",
    "    random_split,\n",
    "    SubsetRandomSampler,\n",
    "    ConcatDataset,\n",
    ")\n",
    "from torchvision import transforms, datasets\n",
    "\n",
    "\n",
    "torch.cuda.is_available()"
   ]
  },
  {
   "cell_type": "markdown",
   "metadata": {},
   "source": [
    "### GPU HELL YEAH!"
   ]
  },
  {
   "cell_type": "code",
   "execution_count": 2,
   "metadata": {},
   "outputs": [
    {
     "name": "stdout",
     "output_type": "stream",
     "text": [
      "Rolling on GPU, babe\n"
     ]
    }
   ],
   "source": [
    "def get_device():\n",
    "    if torch.cuda.is_available():\n",
    "        device = torch.device('cuda:0')\n",
    "        print('Rolling on GPU, babe')\n",
    "        return device\n",
    "    print('CPU it is...')\n",
    "    return torch.device('cpu')\n",
    "\n",
    "device = get_device()"
   ]
  },
  {
   "cell_type": "markdown",
   "metadata": {},
   "source": [
    "## Data\n"
   ]
  },
  {
   "cell_type": "code",
   "execution_count": 3,
   "metadata": {},
   "outputs": [],
   "source": [
    "# loading data\n",
    "raw_data = loadarff('mnist_784.arff')\n",
    "df = pd.DataFrame(raw_data[0])"
   ]
  },
  {
   "cell_type": "code",
   "execution_count": 4,
   "metadata": {},
   "outputs": [],
   "source": [
    "#validação\n",
    "portion_to_validate = 0.1\n",
    "df_validation = df.sample(frac = portion_to_validate)\n",
    "df = df.drop(df_validation.index)"
   ]
  },
  {
   "cell_type": "code",
   "execution_count": 5,
   "metadata": {},
   "outputs": [],
   "source": [
    "class MLP(nn.Module):\n",
    "\n",
    "    def __init__(self):\n",
    "        super().__init__()\n",
    "        self.fc1 = nn.Linear(28*28, 1024)\n",
    "        self.fc2 = nn.Linear(1024, 1024)\n",
    "        self.fc3 = nn.Linear(1024, 10)\n",
    "    \n",
    "    def forward(self, x):\n",
    "        x = F.relu(self.fc1(x))\n",
    "        x = F.relu(self.fc2(x))\n",
    "        x = self.fc3(x)\n",
    "        return F.log_softmax(x, dim=1)\n",
    "\n",
    "def train_epoch(net, device, dataloader, loss_fn, optimizer):\n",
    "    net.train()\n",
    "    for X, y in dataloader:\n",
    "        y = y.type(torch.LongTensor)\n",
    "        X, y = X.to(device), y.to(device)\n",
    "\n",
    "        optimizer.zero_grad()\n",
    "        output = net(X)\n",
    "        loss = loss_fn(output, y)\n",
    "        loss.backward()\n",
    "        optimizer.step()\n",
    "    return loss\n",
    "\n",
    "def valid_epoch(net, device, dataloader, loss_fn):\n",
    "    valid_loss, val_correct = 0.0, 0\n",
    "    net.eval()\n",
    "    for X, y in dataloader:\n",
    "        y = y.type(torch.LongTensor)\n",
    "        X, y = X.to(device), y.to(device)\n",
    "\n",
    "        output = net(X)\n",
    "        loss=loss_fn(output, y)\n",
    "        scores, predictions = torch.max(output.data,1)\n",
    "        val_correct += (predictions == y).sum().item()\n",
    "\n",
    "    return loss, val_correct"
   ]
  },
  {
   "cell_type": "code",
   "execution_count": 6,
   "metadata": {},
   "outputs": [],
   "source": [
    "class PDtoTensor(Dataset):\n",
    " \n",
    "  def __init__(self, X, y):\n",
    "    self.X_train = torch.tensor(X.values, dtype=torch.float)\n",
    "    self.y_train = torch.tensor(y.values.flatten(), dtype=torch.float)\n",
    " \n",
    "  def __len__(self):\n",
    "    return len(self.y_train)\n",
    "   \n",
    "  def __getitem__(self,idx):\n",
    "    return self.X_train[idx], self.y_train[idx]"
   ]
  },
  {
   "cell_type": "code",
   "execution_count": 13,
   "metadata": {},
   "outputs": [
    {
     "name": "stdout",
     "output_type": "stream",
     "text": [
      "Fold 1\n",
      "Epoch: 1/10 \t Training Loss: 0.229\t Test Accuracy: 0.9508\n",
      "Epoch: 2/10 \t Training Loss: 0.146\t Test Accuracy: 0.9576\n",
      "Epoch: 3/10 \t Training Loss: 0.162\t Test Accuracy: 0.9571\n",
      "Epoch: 4/10 \t Training Loss: 0.256\t Test Accuracy: 0.9606\n",
      "Epoch: 5/10 \t Training Loss: 0.113\t Test Accuracy: 0.9563\n",
      "Epoch: 6/10 \t Training Loss: 0.186\t Test Accuracy: 0.9589\n",
      "Epoch: 7/10 \t Training Loss: 0.230\t Test Accuracy: 0.9632\n",
      "Epoch: 8/10 \t Training Loss: 0.019\t Test Accuracy: 0.9632\n",
      "Epoch: 9/10 \t Training Loss: 0.039\t Test Accuracy: 0.9617\n",
      "Epoch: 10/10 \t Training Loss: 0.054\t Test Accuracy: 0.9665\n",
      "Fold 2\n",
      "Epoch: 1/10 \t Training Loss: 0.230\t Test Accuracy: 0.9524\n",
      "Epoch: 2/10 \t Training Loss: 0.077\t Test Accuracy: 0.9595\n",
      "Epoch: 3/10 \t Training Loss: 0.101\t Test Accuracy: 0.9562\n",
      "Epoch: 4/10 \t Training Loss: 0.142\t Test Accuracy: 0.9548\n",
      "Epoch: 5/10 \t Training Loss: 0.115\t Test Accuracy: 0.9589\n",
      "Epoch: 6/10 \t Training Loss: 0.101\t Test Accuracy: 0.9671\n",
      "Epoch: 7/10 \t Training Loss: 0.062\t Test Accuracy: 0.9551\n",
      "Epoch: 8/10 \t Training Loss: 0.012\t Test Accuracy: 0.9667\n",
      "Epoch: 9/10 \t Training Loss: 0.028\t Test Accuracy: 0.9721\n",
      "Epoch: 10/10 \t Training Loss: 0.121\t Test Accuracy: 0.9630\n",
      "Fold 3\n",
      "Epoch: 1/10 \t Training Loss: 0.291\t Test Accuracy: 0.9476\n",
      "Epoch: 2/10 \t Training Loss: 0.042\t Test Accuracy: 0.9616\n",
      "Epoch: 3/10 \t Training Loss: 0.076\t Test Accuracy: 0.9697\n",
      "Epoch: 4/10 \t Training Loss: 0.121\t Test Accuracy: 0.9694\n",
      "Epoch: 5/10 \t Training Loss: 0.023\t Test Accuracy: 0.9689\n",
      "Epoch: 6/10 \t Training Loss: 0.124\t Test Accuracy: 0.9721\n",
      "Epoch: 7/10 \t Training Loss: 0.106\t Test Accuracy: 0.9651\n",
      "Epoch: 8/10 \t Training Loss: 0.096\t Test Accuracy: 0.9725\n",
      "Epoch: 9/10 \t Training Loss: 0.102\t Test Accuracy: 0.9722\n",
      "Epoch: 10/10 \t Training Loss: 0.039\t Test Accuracy: 0.9648\n",
      "Fold 4\n",
      "Epoch: 1/10 \t Training Loss: 0.235\t Test Accuracy: 0.9524\n",
      "Epoch: 2/10 \t Training Loss: 0.104\t Test Accuracy: 0.9603\n",
      "Epoch: 3/10 \t Training Loss: 0.097\t Test Accuracy: 0.9621\n",
      "Epoch: 4/10 \t Training Loss: 0.146\t Test Accuracy: 0.9538\n",
      "Epoch: 5/10 \t Training Loss: 0.106\t Test Accuracy: 0.9559\n",
      "Epoch: 6/10 \t Training Loss: 0.030\t Test Accuracy: 0.9667\n",
      "Epoch: 7/10 \t Training Loss: 0.083\t Test Accuracy: 0.9692\n",
      "Epoch: 8/10 \t Training Loss: 0.188\t Test Accuracy: 0.9602\n",
      "Epoch: 9/10 \t Training Loss: 0.019\t Test Accuracy: 0.9640\n",
      "Epoch: 10/10 \t Training Loss: 0.027\t Test Accuracy: 0.9598\n",
      "Fold 5\n",
      "Epoch: 1/10 \t Training Loss: 0.196\t Test Accuracy: 0.9541\n",
      "Epoch: 2/10 \t Training Loss: 0.107\t Test Accuracy: 0.9624\n",
      "Epoch: 3/10 \t Training Loss: 0.139\t Test Accuracy: 0.9638\n",
      "Epoch: 4/10 \t Training Loss: 0.025\t Test Accuracy: 0.9667\n",
      "Epoch: 5/10 \t Training Loss: 0.023\t Test Accuracy: 0.9662\n",
      "Epoch: 6/10 \t Training Loss: 0.041\t Test Accuracy: 0.9648\n",
      "Epoch: 7/10 \t Training Loss: 0.045\t Test Accuracy: 0.9592\n",
      "Epoch: 8/10 \t Training Loss: 0.069\t Test Accuracy: 0.9713\n",
      "Epoch: 9/10 \t Training Loss: 0.042\t Test Accuracy: 0.9676\n",
      "Epoch: 10/10 \t Training Loss: 0.014\t Test Accuracy: 0.9695\n",
      "Fold 6\n",
      "Epoch: 1/10 \t Training Loss: 0.229\t Test Accuracy: 0.9457\n",
      "Epoch: 2/10 \t Training Loss: 0.073\t Test Accuracy: 0.9606\n",
      "Epoch: 3/10 \t Training Loss: 0.011\t Test Accuracy: 0.9635\n",
      "Epoch: 4/10 \t Training Loss: 0.036\t Test Accuracy: 0.9598\n",
      "Epoch: 5/10 \t Training Loss: 0.097\t Test Accuracy: 0.9675\n",
      "Epoch: 6/10 \t Training Loss: 0.057\t Test Accuracy: 0.9652\n",
      "Epoch: 7/10 \t Training Loss: 0.067\t Test Accuracy: 0.9621\n",
      "Epoch: 8/10 \t Training Loss: 0.091\t Test Accuracy: 0.9584\n",
      "Epoch: 9/10 \t Training Loss: 0.061\t Test Accuracy: 0.9598\n",
      "Epoch: 10/10 \t Training Loss: 0.005\t Test Accuracy: 0.9656\n",
      "Fold 7\n",
      "Epoch: 1/10 \t Training Loss: 0.193\t Test Accuracy: 0.9560\n",
      "Epoch: 2/10 \t Training Loss: 0.139\t Test Accuracy: 0.9621\n",
      "Epoch: 3/10 \t Training Loss: 0.093\t Test Accuracy: 0.9648\n",
      "Epoch: 4/10 \t Training Loss: 0.148\t Test Accuracy: 0.9597\n",
      "Epoch: 5/10 \t Training Loss: 0.020\t Test Accuracy: 0.9594\n",
      "Epoch: 6/10 \t Training Loss: 0.108\t Test Accuracy: 0.9606\n",
      "Epoch: 7/10 \t Training Loss: 0.047\t Test Accuracy: 0.9706\n",
      "Epoch: 8/10 \t Training Loss: 0.118\t Test Accuracy: 0.9595\n",
      "Epoch: 9/10 \t Training Loss: 0.161\t Test Accuracy: 0.9695\n",
      "Epoch: 10/10 \t Training Loss: 0.056\t Test Accuracy: 0.9725\n",
      "Fold 8\n",
      "Epoch: 1/10 \t Training Loss: 0.277\t Test Accuracy: 0.9600\n",
      "Epoch: 2/10 \t Training Loss: 0.104\t Test Accuracy: 0.9630\n",
      "Epoch: 3/10 \t Training Loss: 0.082\t Test Accuracy: 0.9625\n",
      "Epoch: 4/10 \t Training Loss: 0.053\t Test Accuracy: 0.9646\n",
      "Epoch: 5/10 \t Training Loss: 0.157\t Test Accuracy: 0.9654\n",
      "Epoch: 6/10 \t Training Loss: 0.017\t Test Accuracy: 0.9678\n",
      "Epoch: 7/10 \t Training Loss: 0.012\t Test Accuracy: 0.9663\n",
      "Epoch: 8/10 \t Training Loss: 0.015\t Test Accuracy: 0.9689\n",
      "Epoch: 9/10 \t Training Loss: 0.195\t Test Accuracy: 0.9651\n",
      "Epoch: 10/10 \t Training Loss: 0.013\t Test Accuracy: 0.9711\n",
      "Fold 9\n",
      "Epoch: 1/10 \t Training Loss: 0.274\t Test Accuracy: 0.9448\n",
      "Epoch: 2/10 \t Training Loss: 0.100\t Test Accuracy: 0.9584\n",
      "Epoch: 3/10 \t Training Loss: 0.181\t Test Accuracy: 0.9600\n",
      "Epoch: 4/10 \t Training Loss: 0.028\t Test Accuracy: 0.9571\n",
      "Epoch: 5/10 \t Training Loss: 0.072\t Test Accuracy: 0.9632\n",
      "Epoch: 6/10 \t Training Loss: 0.021\t Test Accuracy: 0.9624\n",
      "Epoch: 7/10 \t Training Loss: 0.064\t Test Accuracy: 0.9632\n",
      "Epoch: 8/10 \t Training Loss: 0.045\t Test Accuracy: 0.9508\n",
      "Epoch: 9/10 \t Training Loss: 0.059\t Test Accuracy: 0.9679\n",
      "Epoch: 10/10 \t Training Loss: 0.139\t Test Accuracy: 0.9571\n",
      "Fold 10\n",
      "Epoch: 1/10 \t Training Loss: 0.239\t Test Accuracy: 0.9490\n",
      "Epoch: 2/10 \t Training Loss: 0.155\t Test Accuracy: 0.9633\n",
      "Epoch: 3/10 \t Training Loss: 0.076\t Test Accuracy: 0.9546\n",
      "Epoch: 4/10 \t Training Loss: 0.111\t Test Accuracy: 0.9648\n",
      "Epoch: 5/10 \t Training Loss: 0.171\t Test Accuracy: 0.9637\n",
      "Epoch: 6/10 \t Training Loss: 0.165\t Test Accuracy: 0.9622\n",
      "Epoch: 7/10 \t Training Loss: 0.096\t Test Accuracy: 0.9621\n",
      "Epoch: 8/10 \t Training Loss: 0.088\t Test Accuracy: 0.9686\n",
      "Epoch: 9/10 \t Training Loss: 0.216\t Test Accuracy: 0.9600\n",
      "Epoch: 10/10 \t Training Loss: 0.036\t Test Accuracy: 0.9695\n",
      "Accuracy mean (std): 0.9660 (0.0047)\n"
     ]
    }
   ],
   "source": [
    "# Separando dataset\n",
    "X = df.iloc[:, 0:-1]\n",
    "y = df.iloc[:, [-1]].astype('int')\n",
    "\n",
    "kf = KFold(n_splits=10, random_state=1, shuffle=True)\n",
    "EPOCHS = 10\n",
    "\n",
    "# Training the model\n",
    "fold = 0\n",
    "scores = list()\n",
    "for train_index, test_index in kf.split(X, y):  \n",
    "    train = PDtoTensor(X.iloc[train_index], y.iloc[train_index])\n",
    "    test = PDtoTensor(X.iloc[test_index], y.iloc[test_index])\n",
    "\n",
    "    train_loader = DataLoader(train, batch_size=128)\n",
    "    test_loader = DataLoader(test, batch_size=128)\n",
    "\n",
    "    net = MLP().to(device)\n",
    "    optimizer = optim.Adam(net.parameters(), lr=0.001)\n",
    "\n",
    "    fold += 1\n",
    "    print(f'Fold {fold}')\n",
    "\n",
    "    for epoch in range(EPOCHS):\n",
    "        train_loss = train_epoch(net, device, train_loader,\n",
    "                                nn.CrossEntropyLoss(), optimizer)\n",
    "\n",
    "        test_loss, test_correct = valid_epoch(net, device, test_loader,\n",
    "                                              nn.CrossEntropyLoss())\n",
    "\n",
    "        print(f'Epoch: {epoch+1}/{EPOCHS} \\t Training Loss: {train_loss:.3f}'\\\n",
    "            f'\\t Test Accuracy: {test_correct/len(test_loader.sampler):.4f}') \n",
    "        \n",
    "    scores.append(test_correct / len(test_loader.sampler))\n",
    "\n",
    "print(f'Accuracy mean (std): {np.mean(scores):.4f} ({np.std(scores):.4f})')\n"
   ]
  },
  {
   "cell_type": "markdown",
   "metadata": {},
   "source": [
    "### Validation\n",
    "\n",
    "Treinando em 90% dos dados e utilizando 10% para validar o modelo"
   ]
  },
  {
   "cell_type": "code",
   "execution_count": 15,
   "metadata": {},
   "outputs": [
    {
     "name": "stdout",
     "output_type": "stream",
     "text": [
      "Epoch: 1/10 Training Loss: 0.199\n",
      "Epoch: 2/10 Training Loss: 0.003\n",
      "Epoch: 3/10 Training Loss: 0.004\n",
      "Epoch: 4/10 Training Loss: 0.001\n",
      "Epoch: 5/10 Training Loss: 0.001\n",
      "Epoch: 6/10 Training Loss: 0.085\n",
      "Epoch: 7/10 Training Loss: 0.001\n",
      "Epoch: 8/10 Training Loss: 0.138\n",
      "Epoch: 9/10 Training Loss: 0.013\n",
      "Epoch: 10/10 Training Loss: 0.002\n"
     ]
    }
   ],
   "source": [
    "# Validations\n",
    "X_train = df.iloc[:, 0:-1]\n",
    "y_train = df.iloc[:, [-1]].astype('int')\n",
    "\n",
    "X_val = df_validation.iloc[:, 0:-1]\n",
    "y_val = df_validation.iloc[:, [-1]].astype('int')\n",
    "\n",
    "train = PDtoTensor(X_train, y_train)\n",
    "val = PDtoTensor(X_val, y_val)\n",
    "\n",
    "train_loader = DataLoader(train, batch_size=128)\n",
    "val_loader = DataLoader(val, batch_size=128)\n",
    "\n",
    "net = MLP().to(device)\n",
    "optimizer = optim.Adam(net.parameters(), lr=0.001)\n",
    "\n",
    "for epoch in range(EPOCHS):\n",
    "    train_loss = train_epoch(net, device, train_loader,\n",
    "                            F.nll_loss, optimizer)\n",
    "\n",
    "    print(f'Epoch: {epoch+1}/{EPOCHS} Training Loss: {train_loss:.3f}')\n"
   ]
  },
  {
   "cell_type": "code",
   "execution_count": 17,
   "metadata": {},
   "outputs": [
    {
     "name": "stdout",
     "output_type": "stream",
     "text": [
      "Accuracy:  0.972\n"
     ]
    }
   ],
   "source": [
    "correct = 0\n",
    "total = 0\n",
    "\n",
    "with torch.no_grad():\n",
    "    for data in val_loader:\n",
    "        X, y = data\n",
    "        X, y = X.to(device), y.to(device)\n",
    "        output = net(X)\n",
    "        for idx, i in enumerate(output):\n",
    "            if torch.argmax(i) == y[idx]:\n",
    "                correct += 1\n",
    "            total += 1\n",
    "            \n",
    "print(\"Accuracy: \", round(correct/total, 3))"
   ]
  }
 ],
 "metadata": {
  "kernelspec": {
   "display_name": "Python 3.10.4 64-bit",
   "language": "python",
   "name": "python3"
  },
  "language_info": {
   "codemirror_mode": {
    "name": "ipython",
    "version": 3
   },
   "file_extension": ".py",
   "mimetype": "text/x-python",
   "name": "python",
   "nbconvert_exporter": "python",
   "pygments_lexer": "ipython3",
   "version": "3.10.4"
  },
  "orig_nbformat": 4,
  "vscode": {
   "interpreter": {
    "hash": "31f2aee4e71d21fbe5cf8b01ff0e069b9275f58929596ceb00d14d90e3e16cd6"
   }
  }
 },
 "nbformat": 4,
 "nbformat_minor": 2
}
